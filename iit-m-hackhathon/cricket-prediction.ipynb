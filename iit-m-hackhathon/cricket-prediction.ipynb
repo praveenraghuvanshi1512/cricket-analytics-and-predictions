{
 "cells": [
  {
   "cell_type": "markdown",
   "id": "awful-creator",
   "metadata": {},
   "source": [
    "# Cricket Prediction - IIT Madras IPL Hackhathon April 2021"
   ]
  },
  {
   "cell_type": "markdown",
   "id": "greatest-property",
   "metadata": {},
   "source": [
    "## Problem Statement\n",
    "- Predict the score of an inning after 6 overs\n",
    "\n",
    "## Dataset\n",
    "- Dataset downloaded from [CricSheet](https://cricsheet.org/downloads/t20s_male_csv2.zip)\n",
    "\n",
    "### Dataset - Analysis\n",
    "- Its a zip file containing data for all T20 matches played by Men.\n",
    "- There are 999 files each containing below 22 columns.\n",
    "   - match_id\n",
    "   - season\n",
    "   - start_date\n",
    "   - venue\n",
    "   - innings\n",
    "   - ball\n",
    "   - batting_team\n",
    "   - bowling_team\n",
    "   - striker\n",
    "   - non_striker\n",
    "   - bowler\n",
    "   - runs_off_bat\n",
    "   - extras\n",
    "   - wides\n",
    "   - noballs\n",
    "   - byes\n",
    "   - legbyes\n",
    "   - penalty\n",
    "   - wicket_type\n",
    "   - player_dismissed\n",
    "   - other_wicket_type\n",
    "   - other_player_dismissed\n",
    "   \n",
    "- As the problem statement is to predict score after first 6 overs, we need to prepare dataset as given below\n",
    "  - Unzip file (t20s_male_csv2.zip) \n",
    "  - Merge data from all the files and load it into dataframe\n",
    "  - Take data till six overs from each innings\n",
    "  - Add a column for total score : Total score per ball = runs_off_bat + extras\n",
    "\n",
    "- For prediction, an input file is provided with 6 columns(venue,innings,batting_team,bowling_team,batsmen,bowlers)\n",
    "  - The dataset does not have information about batsman and bowlers, we need to add two columns for them which holds list of bowler and bastman till 6 overs\n",
    "  \n",
    "- Feature Engineering\n",
    "  - Drop Null values\n",
    "  - One hot encoding for Non numerical columns such as venue, batting team, bowling team, batsman, bowlers\n",
    "  - Convert date to date time object\n",
    "  - Split dataset based on time : Train < 2015 and Test > 2015\n",
    "  - Remove unwanted columns : MatchId, Season, venue, innings, player_dismissed, other_wicket_type, other_player_dismissed etc\n",
    "\n",
    "- Training\n",
    "  - As the objective is to predict a score(a discrete value), its a regression problem in machine learning\n",
    "  - A model could be trained with multiple algorithms such as\n",
    "      - Linear regression\n",
    "      - Ridge regression\n",
    "      - Decision tree\n",
    "\n",
    "- Testing\n",
    "  - Test the model on the split dataset \n",
    "\n",
    "- Score\n",
    "  - Evaluate score R2. A lower value is preferred\n",
    "  \n",
    "- Prediction\n",
    "  - Make prediction by providing data present in input file\n",
    "\n",
    "\n",
    "   \n",
    "\n"
   ]
  }
 ],
 "metadata": {
  "kernelspec": {
   "display_name": "Python 3",
   "language": "python",
   "name": "python3"
  },
  "language_info": {
   "codemirror_mode": {
    "name": "ipython",
    "version": 3
   },
   "file_extension": ".py",
   "mimetype": "text/x-python",
   "name": "python",
   "nbconvert_exporter": "python",
   "pygments_lexer": "ipython3",
   "version": "3.9.1"
  }
 },
 "nbformat": 4,
 "nbformat_minor": 5
}
