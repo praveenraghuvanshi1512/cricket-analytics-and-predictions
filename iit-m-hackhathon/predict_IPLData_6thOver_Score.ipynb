{
 "cells": [
  {
   "source": [
    "# Things to know:\n",
    "1. Number of teams?? >> 14 - Teams\n",
    "2. How many matches played by each team?? \n",
    "3. Each teams 1st 6-overs score sum??"
   ],
   "cell_type": "markdown",
   "metadata": {}
  },
  {
   "cell_type": "code",
   "execution_count": 1,
   "metadata": {},
   "outputs": [],
   "source": [
    "from sklearn.preprocessing import LabelEncoder\n",
    "vennue_LE = LabelEncoder()"
   ]
  },
  {
   "cell_type": "code",
   "execution_count": 2,
   "metadata": {},
   "outputs": [
    {
     "output_type": "stream",
     "name": "stderr",
     "text": [
      "C:\\Users\\skanukollu\\AppData\\Roaming\\Python\\Python38\\site-packages\\IPython\\core\\interactiveshell.py:3165: DtypeWarning: Columns (1) have mixed types.Specify dtype option on import or set low_memory=False.\n  has_raised = await self.run_ast_nodes(code_ast.body, cell_name,\n"
     ]
    },
    {
     "output_type": "execute_result",
     "data": {
      "text/plain": [
       "   match_id   season  start_date                  venue  innings  ball  \\\n",
       "0    335982  2007/08  2008-04-18  M Chinnaswamy Stadium        1   0.1   \n",
       "1    335982  2007/08  2008-04-18  M Chinnaswamy Stadium        1   0.2   \n",
       "2    335982  2007/08  2008-04-18  M Chinnaswamy Stadium        1   0.3   \n",
       "3    335982  2007/08  2008-04-18  M Chinnaswamy Stadium        1   0.4   \n",
       "4    335982  2007/08  2008-04-18  M Chinnaswamy Stadium        1   0.5   \n",
       "\n",
       "            batting_team                 bowling_team      striker  \\\n",
       "0  Kolkata Knight Riders  Royal Challengers Bangalore   SC Ganguly   \n",
       "1  Kolkata Knight Riders  Royal Challengers Bangalore  BB McCullum   \n",
       "2  Kolkata Knight Riders  Royal Challengers Bangalore  BB McCullum   \n",
       "3  Kolkata Knight Riders  Royal Challengers Bangalore  BB McCullum   \n",
       "4  Kolkata Knight Riders  Royal Challengers Bangalore  BB McCullum   \n",
       "\n",
       "   non_striker  ... extras  wides  noballs  byes  legbyes  penalty  \\\n",
       "0  BB McCullum  ...      1    NaN      NaN   NaN      1.0      NaN   \n",
       "1   SC Ganguly  ...      0    NaN      NaN   NaN      NaN      NaN   \n",
       "2   SC Ganguly  ...      1    1.0      NaN   NaN      NaN      NaN   \n",
       "3   SC Ganguly  ...      0    NaN      NaN   NaN      NaN      NaN   \n",
       "4   SC Ganguly  ...      0    NaN      NaN   NaN      NaN      NaN   \n",
       "\n",
       "   wicket_type  player_dismissed other_wicket_type other_player_dismissed  \n",
       "0          NaN               NaN               NaN                    NaN  \n",
       "1          NaN               NaN               NaN                    NaN  \n",
       "2          NaN               NaN               NaN                    NaN  \n",
       "3          NaN               NaN               NaN                    NaN  \n",
       "4          NaN               NaN               NaN                    NaN  \n",
       "\n",
       "[5 rows x 22 columns]"
      ],
      "text/html": "<div>\n<style scoped>\n    .dataframe tbody tr th:only-of-type {\n        vertical-align: middle;\n    }\n\n    .dataframe tbody tr th {\n        vertical-align: top;\n    }\n\n    .dataframe thead th {\n        text-align: right;\n    }\n</style>\n<table border=\"1\" class=\"dataframe\">\n  <thead>\n    <tr style=\"text-align: right;\">\n      <th></th>\n      <th>match_id</th>\n      <th>season</th>\n      <th>start_date</th>\n      <th>venue</th>\n      <th>innings</th>\n      <th>ball</th>\n      <th>batting_team</th>\n      <th>bowling_team</th>\n      <th>striker</th>\n      <th>non_striker</th>\n      <th>...</th>\n      <th>extras</th>\n      <th>wides</th>\n      <th>noballs</th>\n      <th>byes</th>\n      <th>legbyes</th>\n      <th>penalty</th>\n      <th>wicket_type</th>\n      <th>player_dismissed</th>\n      <th>other_wicket_type</th>\n      <th>other_player_dismissed</th>\n    </tr>\n  </thead>\n  <tbody>\n    <tr>\n      <th>0</th>\n      <td>335982</td>\n      <td>2007/08</td>\n      <td>2008-04-18</td>\n      <td>M Chinnaswamy Stadium</td>\n      <td>1</td>\n      <td>0.1</td>\n      <td>Kolkata Knight Riders</td>\n      <td>Royal Challengers Bangalore</td>\n      <td>SC Ganguly</td>\n      <td>BB McCullum</td>\n      <td>...</td>\n      <td>1</td>\n      <td>NaN</td>\n      <td>NaN</td>\n      <td>NaN</td>\n      <td>1.0</td>\n      <td>NaN</td>\n      <td>NaN</td>\n      <td>NaN</td>\n      <td>NaN</td>\n      <td>NaN</td>\n    </tr>\n    <tr>\n      <th>1</th>\n      <td>335982</td>\n      <td>2007/08</td>\n      <td>2008-04-18</td>\n      <td>M Chinnaswamy Stadium</td>\n      <td>1</td>\n      <td>0.2</td>\n      <td>Kolkata Knight Riders</td>\n      <td>Royal Challengers Bangalore</td>\n      <td>BB McCullum</td>\n      <td>SC Ganguly</td>\n      <td>...</td>\n      <td>0</td>\n      <td>NaN</td>\n      <td>NaN</td>\n      <td>NaN</td>\n      <td>NaN</td>\n      <td>NaN</td>\n      <td>NaN</td>\n      <td>NaN</td>\n      <td>NaN</td>\n      <td>NaN</td>\n    </tr>\n    <tr>\n      <th>2</th>\n      <td>335982</td>\n      <td>2007/08</td>\n      <td>2008-04-18</td>\n      <td>M Chinnaswamy Stadium</td>\n      <td>1</td>\n      <td>0.3</td>\n      <td>Kolkata Knight Riders</td>\n      <td>Royal Challengers Bangalore</td>\n      <td>BB McCullum</td>\n      <td>SC Ganguly</td>\n      <td>...</td>\n      <td>1</td>\n      <td>1.0</td>\n      <td>NaN</td>\n      <td>NaN</td>\n      <td>NaN</td>\n      <td>NaN</td>\n      <td>NaN</td>\n      <td>NaN</td>\n      <td>NaN</td>\n      <td>NaN</td>\n    </tr>\n    <tr>\n      <th>3</th>\n      <td>335982</td>\n      <td>2007/08</td>\n      <td>2008-04-18</td>\n      <td>M Chinnaswamy Stadium</td>\n      <td>1</td>\n      <td>0.4</td>\n      <td>Kolkata Knight Riders</td>\n      <td>Royal Challengers Bangalore</td>\n      <td>BB McCullum</td>\n      <td>SC Ganguly</td>\n      <td>...</td>\n      <td>0</td>\n      <td>NaN</td>\n      <td>NaN</td>\n      <td>NaN</td>\n      <td>NaN</td>\n      <td>NaN</td>\n      <td>NaN</td>\n      <td>NaN</td>\n      <td>NaN</td>\n      <td>NaN</td>\n    </tr>\n    <tr>\n      <th>4</th>\n      <td>335982</td>\n      <td>2007/08</td>\n      <td>2008-04-18</td>\n      <td>M Chinnaswamy Stadium</td>\n      <td>1</td>\n      <td>0.5</td>\n      <td>Kolkata Knight Riders</td>\n      <td>Royal Challengers Bangalore</td>\n      <td>BB McCullum</td>\n      <td>SC Ganguly</td>\n      <td>...</td>\n      <td>0</td>\n      <td>NaN</td>\n      <td>NaN</td>\n      <td>NaN</td>\n      <td>NaN</td>\n      <td>NaN</td>\n      <td>NaN</td>\n      <td>NaN</td>\n      <td>NaN</td>\n      <td>NaN</td>\n    </tr>\n  </tbody>\n</table>\n<p>5 rows × 22 columns</p>\n</div>"
     },
     "metadata": {},
     "execution_count": 2
    }
   ],
   "source": [
    "import pandas as pd\n",
    "from pprint import pprint\n",
    "\n",
    "df_org = pd.read_csv('all_matches.csv')\n",
    "df = df_org.copy()\n",
    "\n",
    "df.head()"
   ]
  },
  {
   "cell_type": "code",
   "execution_count": 3,
   "metadata": {},
   "outputs": [
    {
     "output_type": "stream",
     "name": "stdout",
     "text": [
      "Total teams Participated : 15\n\n\nThey are : \n\n['Kolkata Knight Riders',\n 'Royal Challengers Bangalore',\n 'Chennai Super Kings',\n 'Kings XI Punjab',\n 'Rajasthan Royals',\n 'Delhi Daredevils',\n 'Deccan Chargers',\n 'Mumbai Indians',\n 'Kochi Tuskers Kerala',\n 'Pune Warriors',\n 'Sunrisers Hyderabad',\n 'Rising Pune Supergiants',\n 'Gujarat Lions',\n 'Rising Pune Supergiant',\n 'Delhi Capitals']\n"
     ]
    }
   ],
   "source": [
    "print(f'Total teams Participated : {df.batting_team.unique().shape[0]}\\n\\n\\nThey are : \\n')\n",
    "pprint(list(df.batting_team.unique()))\n"
   ]
  },
  {
   "cell_type": "markdown",
   "metadata": {},
   "source": [
    "Here as we can see '2' names for the same team : 'Rising Pune Supergiants' and 'Rising Pune Supergiant'\n",
    "So replace with one name"
   ]
  },
  {
   "cell_type": "code",
   "execution_count": 4,
   "metadata": {},
   "outputs": [],
   "source": [
    "df.batting_team.replace(to_replace='Rising Pune Supergiant',value='Rising Pune Supergiants',inplace=True)"
   ]
  },
  {
   "cell_type": "code",
   "execution_count": 5,
   "metadata": {},
   "outputs": [
    {
     "output_type": "stream",
     "name": "stdout",
     "text": [
      "['Kolkata Knight Riders',\n 'Royal Challengers Bangalore',\n 'Chennai Super Kings',\n 'Kings XI Punjab',\n 'Rajasthan Royals',\n 'Delhi Daredevils',\n 'Deccan Chargers',\n 'Mumbai Indians',\n 'Kochi Tuskers Kerala',\n 'Pune Warriors',\n 'Sunrisers Hyderabad',\n 'Rising Pune Supergiants',\n 'Gujarat Lions',\n 'Delhi Capitals']\n"
     ]
    }
   ],
   "source": [
    "pprint(list(df.batting_team.unique()))"
   ]
  },
  {
   "source": [
    "# Filter the dataset w.r.t 6-overs details"
   ],
   "cell_type": "markdown",
   "metadata": {}
  },
  {
   "cell_type": "code",
   "execution_count": 6,
   "metadata": {},
   "outputs": [],
   "source": [
    "df_tmp = df.loc[(df.ball>=0.0)&(df.ball<=6.0)]\n"
   ]
  },
  {
   "cell_type": "code",
   "execution_count": 7,
   "metadata": {},
   "outputs": [
    {
     "output_type": "stream",
     "name": "stderr",
     "text": [
      "<ipython-input-7-38d4282afe88>:1: SettingWithCopyWarning: \nA value is trying to be set on a copy of a slice from a DataFrame.\nTry using .loc[row_indexer,col_indexer] = value instead\n\nSee the caveats in the documentation: https://pandas.pydata.org/pandas-docs/stable/user_guide/indexing.html#returning-a-view-versus-a-copy\n  df_tmp['Total_runs_in_6_Overs'] = df_tmp.runs_off_bat+df_tmp.extras\n"
     ]
    }
   ],
   "source": [
    "df_tmp['Total_runs_in_6_Overs'] = df_tmp.runs_off_bat+df_tmp.extras\n",
    "#df_tmp.to_csv('tmp.csv',index=False)"
   ]
  },
  {
   "cell_type": "code",
   "execution_count": 14,
   "metadata": {},
   "outputs": [
    {
     "output_type": "stream",
     "name": "stderr",
     "text": [
      "<ipython-input-14-05cc470aa65b>:1: SettingWithCopyWarning: \nA value is trying to be set on a copy of a slice from a DataFrame.\nTry using .loc[row_indexer,col_indexer] = value instead\n\nSee the caveats in the documentation: https://pandas.pydata.org/pandas-docs/stable/user_guide/indexing.html#returning-a-view-versus-a-copy\n  df_tmp['venue'] = vennue_LE.fit_transform(df_tmp.venue)\n"
     ]
    }
   ],
   "source": [
    "df_tmp['venue'] = vennue_LE.fit_transform(df_tmp.venue)"
   ]
  },
  {
   "cell_type": "code",
   "execution_count": 15,
   "metadata": {},
   "outputs": [
    {
     "output_type": "execute_result",
     "data": {
      "text/plain": [
       "        match_id   season  start_date  venue  innings  ball  \\\n",
       "0         335982  2007/08  2008-04-18     15        1   0.1   \n",
       "1         335982  2007/08  2008-04-18     15        1   0.2   \n",
       "2         335982  2007/08  2008-04-18     15        1   0.3   \n",
       "3         335982  2007/08  2008-04-18     15        1   0.4   \n",
       "4         335982  2007/08  2008-04-18     15        1   0.5   \n",
       "...          ...      ...         ...    ...      ...   ...   \n",
       "194260   1254060     2021  2021-04-11     19        2   5.2   \n",
       "194261   1254060     2021  2021-04-11     19        2   5.3   \n",
       "194262   1254060     2021  2021-04-11     19        2   5.4   \n",
       "194263   1254060     2021  2021-04-11     19        2   5.5   \n",
       "194264   1254060     2021  2021-04-11     19        2   5.6   \n",
       "\n",
       "                 batting_team                 bowling_team      striker  \\\n",
       "0       Kolkata Knight Riders  Royal Challengers Bangalore   SC Ganguly   \n",
       "1       Kolkata Knight Riders  Royal Challengers Bangalore  BB McCullum   \n",
       "2       Kolkata Knight Riders  Royal Challengers Bangalore  BB McCullum   \n",
       "3       Kolkata Knight Riders  Royal Challengers Bangalore  BB McCullum   \n",
       "4       Kolkata Knight Riders  Royal Challengers Bangalore  BB McCullum   \n",
       "...                       ...                          ...          ...   \n",
       "194260    Sunrisers Hyderabad        Kolkata Knight Riders  JM Bairstow   \n",
       "194261    Sunrisers Hyderabad        Kolkata Knight Riders  JM Bairstow   \n",
       "194262    Sunrisers Hyderabad        Kolkata Knight Riders    MK Pandey   \n",
       "194263    Sunrisers Hyderabad        Kolkata Knight Riders    MK Pandey   \n",
       "194264    Sunrisers Hyderabad        Kolkata Knight Riders    MK Pandey   \n",
       "\n",
       "        non_striker  ... wides  noballs  byes  legbyes  penalty  wicket_type  \\\n",
       "0       BB McCullum  ...   NaN      NaN   NaN      1.0      NaN          NaN   \n",
       "1        SC Ganguly  ...   NaN      NaN   NaN      NaN      NaN          NaN   \n",
       "2        SC Ganguly  ...   1.0      NaN   NaN      NaN      NaN          NaN   \n",
       "3        SC Ganguly  ...   NaN      NaN   NaN      NaN      NaN          NaN   \n",
       "4        SC Ganguly  ...   NaN      NaN   NaN      NaN      NaN          NaN   \n",
       "...             ...  ...   ...      ...   ...      ...      ...          ...   \n",
       "194260    MK Pandey  ...   NaN      NaN   NaN      NaN      NaN          NaN   \n",
       "194261    MK Pandey  ...   NaN      NaN   NaN      NaN      NaN          NaN   \n",
       "194262  JM Bairstow  ...   NaN      NaN   NaN      NaN      NaN          NaN   \n",
       "194263  JM Bairstow  ...   NaN      NaN   NaN      NaN      NaN          NaN   \n",
       "194264  JM Bairstow  ...   NaN      NaN   NaN      NaN      NaN          NaN   \n",
       "\n",
       "        player_dismissed  other_wicket_type other_player_dismissed  \\\n",
       "0                    NaN                NaN                    NaN   \n",
       "1                    NaN                NaN                    NaN   \n",
       "2                    NaN                NaN                    NaN   \n",
       "3                    NaN                NaN                    NaN   \n",
       "4                    NaN                NaN                    NaN   \n",
       "...                  ...                ...                    ...   \n",
       "194260               NaN                NaN                    NaN   \n",
       "194261               NaN                NaN                    NaN   \n",
       "194262               NaN                NaN                    NaN   \n",
       "194263               NaN                NaN                    NaN   \n",
       "194264               NaN                NaN                    NaN   \n",
       "\n",
       "       Total_runs_in_6_Overs  \n",
       "0                          1  \n",
       "1                          0  \n",
       "2                          1  \n",
       "3                          0  \n",
       "4                          0  \n",
       "...                      ...  \n",
       "194260                     0  \n",
       "194261                     1  \n",
       "194262                     0  \n",
       "194263                     0  \n",
       "194264                     1  \n",
       "\n",
       "[61307 rows x 23 columns]"
      ],
      "text/html": "<div>\n<style scoped>\n    .dataframe tbody tr th:only-of-type {\n        vertical-align: middle;\n    }\n\n    .dataframe tbody tr th {\n        vertical-align: top;\n    }\n\n    .dataframe thead th {\n        text-align: right;\n    }\n</style>\n<table border=\"1\" class=\"dataframe\">\n  <thead>\n    <tr style=\"text-align: right;\">\n      <th></th>\n      <th>match_id</th>\n      <th>season</th>\n      <th>start_date</th>\n      <th>venue</th>\n      <th>innings</th>\n      <th>ball</th>\n      <th>batting_team</th>\n      <th>bowling_team</th>\n      <th>striker</th>\n      <th>non_striker</th>\n      <th>...</th>\n      <th>wides</th>\n      <th>noballs</th>\n      <th>byes</th>\n      <th>legbyes</th>\n      <th>penalty</th>\n      <th>wicket_type</th>\n      <th>player_dismissed</th>\n      <th>other_wicket_type</th>\n      <th>other_player_dismissed</th>\n      <th>Total_runs_in_6_Overs</th>\n    </tr>\n  </thead>\n  <tbody>\n    <tr>\n      <th>0</th>\n      <td>335982</td>\n      <td>2007/08</td>\n      <td>2008-04-18</td>\n      <td>15</td>\n      <td>1</td>\n      <td>0.1</td>\n      <td>Kolkata Knight Riders</td>\n      <td>Royal Challengers Bangalore</td>\n      <td>SC Ganguly</td>\n      <td>BB McCullum</td>\n      <td>...</td>\n      <td>NaN</td>\n      <td>NaN</td>\n      <td>NaN</td>\n      <td>1.0</td>\n      <td>NaN</td>\n      <td>NaN</td>\n      <td>NaN</td>\n      <td>NaN</td>\n      <td>NaN</td>\n      <td>1</td>\n    </tr>\n    <tr>\n      <th>1</th>\n      <td>335982</td>\n      <td>2007/08</td>\n      <td>2008-04-18</td>\n      <td>15</td>\n      <td>1</td>\n      <td>0.2</td>\n      <td>Kolkata Knight Riders</td>\n      <td>Royal Challengers Bangalore</td>\n      <td>BB McCullum</td>\n      <td>SC Ganguly</td>\n      <td>...</td>\n      <td>NaN</td>\n      <td>NaN</td>\n      <td>NaN</td>\n      <td>NaN</td>\n      <td>NaN</td>\n      <td>NaN</td>\n      <td>NaN</td>\n      <td>NaN</td>\n      <td>NaN</td>\n      <td>0</td>\n    </tr>\n    <tr>\n      <th>2</th>\n      <td>335982</td>\n      <td>2007/08</td>\n      <td>2008-04-18</td>\n      <td>15</td>\n      <td>1</td>\n      <td>0.3</td>\n      <td>Kolkata Knight Riders</td>\n      <td>Royal Challengers Bangalore</td>\n      <td>BB McCullum</td>\n      <td>SC Ganguly</td>\n      <td>...</td>\n      <td>1.0</td>\n      <td>NaN</td>\n      <td>NaN</td>\n      <td>NaN</td>\n      <td>NaN</td>\n      <td>NaN</td>\n      <td>NaN</td>\n      <td>NaN</td>\n      <td>NaN</td>\n      <td>1</td>\n    </tr>\n    <tr>\n      <th>3</th>\n      <td>335982</td>\n      <td>2007/08</td>\n      <td>2008-04-18</td>\n      <td>15</td>\n      <td>1</td>\n      <td>0.4</td>\n      <td>Kolkata Knight Riders</td>\n      <td>Royal Challengers Bangalore</td>\n      <td>BB McCullum</td>\n      <td>SC Ganguly</td>\n      <td>...</td>\n      <td>NaN</td>\n      <td>NaN</td>\n      <td>NaN</td>\n      <td>NaN</td>\n      <td>NaN</td>\n      <td>NaN</td>\n      <td>NaN</td>\n      <td>NaN</td>\n      <td>NaN</td>\n      <td>0</td>\n    </tr>\n    <tr>\n      <th>4</th>\n      <td>335982</td>\n      <td>2007/08</td>\n      <td>2008-04-18</td>\n      <td>15</td>\n      <td>1</td>\n      <td>0.5</td>\n      <td>Kolkata Knight Riders</td>\n      <td>Royal Challengers Bangalore</td>\n      <td>BB McCullum</td>\n      <td>SC Ganguly</td>\n      <td>...</td>\n      <td>NaN</td>\n      <td>NaN</td>\n      <td>NaN</td>\n      <td>NaN</td>\n      <td>NaN</td>\n      <td>NaN</td>\n      <td>NaN</td>\n      <td>NaN</td>\n      <td>NaN</td>\n      <td>0</td>\n    </tr>\n    <tr>\n      <th>...</th>\n      <td>...</td>\n      <td>...</td>\n      <td>...</td>\n      <td>...</td>\n      <td>...</td>\n      <td>...</td>\n      <td>...</td>\n      <td>...</td>\n      <td>...</td>\n      <td>...</td>\n      <td>...</td>\n      <td>...</td>\n      <td>...</td>\n      <td>...</td>\n      <td>...</td>\n      <td>...</td>\n      <td>...</td>\n      <td>...</td>\n      <td>...</td>\n      <td>...</td>\n      <td>...</td>\n    </tr>\n    <tr>\n      <th>194260</th>\n      <td>1254060</td>\n      <td>2021</td>\n      <td>2021-04-11</td>\n      <td>19</td>\n      <td>2</td>\n      <td>5.2</td>\n      <td>Sunrisers Hyderabad</td>\n      <td>Kolkata Knight Riders</td>\n      <td>JM Bairstow</td>\n      <td>MK Pandey</td>\n      <td>...</td>\n      <td>NaN</td>\n      <td>NaN</td>\n      <td>NaN</td>\n      <td>NaN</td>\n      <td>NaN</td>\n      <td>NaN</td>\n      <td>NaN</td>\n      <td>NaN</td>\n      <td>NaN</td>\n      <td>0</td>\n    </tr>\n    <tr>\n      <th>194261</th>\n      <td>1254060</td>\n      <td>2021</td>\n      <td>2021-04-11</td>\n      <td>19</td>\n      <td>2</td>\n      <td>5.3</td>\n      <td>Sunrisers Hyderabad</td>\n      <td>Kolkata Knight Riders</td>\n      <td>JM Bairstow</td>\n      <td>MK Pandey</td>\n      <td>...</td>\n      <td>NaN</td>\n      <td>NaN</td>\n      <td>NaN</td>\n      <td>NaN</td>\n      <td>NaN</td>\n      <td>NaN</td>\n      <td>NaN</td>\n      <td>NaN</td>\n      <td>NaN</td>\n      <td>1</td>\n    </tr>\n    <tr>\n      <th>194262</th>\n      <td>1254060</td>\n      <td>2021</td>\n      <td>2021-04-11</td>\n      <td>19</td>\n      <td>2</td>\n      <td>5.4</td>\n      <td>Sunrisers Hyderabad</td>\n      <td>Kolkata Knight Riders</td>\n      <td>MK Pandey</td>\n      <td>JM Bairstow</td>\n      <td>...</td>\n      <td>NaN</td>\n      <td>NaN</td>\n      <td>NaN</td>\n      <td>NaN</td>\n      <td>NaN</td>\n      <td>NaN</td>\n      <td>NaN</td>\n      <td>NaN</td>\n      <td>NaN</td>\n      <td>0</td>\n    </tr>\n    <tr>\n      <th>194263</th>\n      <td>1254060</td>\n      <td>2021</td>\n      <td>2021-04-11</td>\n      <td>19</td>\n      <td>2</td>\n      <td>5.5</td>\n      <td>Sunrisers Hyderabad</td>\n      <td>Kolkata Knight Riders</td>\n      <td>MK Pandey</td>\n      <td>JM Bairstow</td>\n      <td>...</td>\n      <td>NaN</td>\n      <td>NaN</td>\n      <td>NaN</td>\n      <td>NaN</td>\n      <td>NaN</td>\n      <td>NaN</td>\n      <td>NaN</td>\n      <td>NaN</td>\n      <td>NaN</td>\n      <td>0</td>\n    </tr>\n    <tr>\n      <th>194264</th>\n      <td>1254060</td>\n      <td>2021</td>\n      <td>2021-04-11</td>\n      <td>19</td>\n      <td>2</td>\n      <td>5.6</td>\n      <td>Sunrisers Hyderabad</td>\n      <td>Kolkata Knight Riders</td>\n      <td>MK Pandey</td>\n      <td>JM Bairstow</td>\n      <td>...</td>\n      <td>NaN</td>\n      <td>NaN</td>\n      <td>NaN</td>\n      <td>NaN</td>\n      <td>NaN</td>\n      <td>NaN</td>\n      <td>NaN</td>\n      <td>NaN</td>\n      <td>NaN</td>\n      <td>1</td>\n    </tr>\n  </tbody>\n</table>\n<p>61307 rows × 23 columns</p>\n</div>"
     },
     "metadata": {},
     "execution_count": 15
    }
   ],
   "source": [
    "df_tmp"
   ]
  },
  {
   "cell_type": "code",
   "execution_count": null,
   "metadata": {},
   "outputs": [],
   "source": [
    "df_tmp.drop(columns=['wides',\r\n",
    " 'noballs',\r\n",
    " 'byes',\r\n",
    " 'legbyes',\r\n",
    " 'penalty',\r\n",
    " 'wicket_type',\r\n",
    " 'player_dismissed',\r\n",
    " 'other_wicket_type',\r\n",
    " 'other_player_dismissed'],axis=1,inplace=True)\r\n",
    "\r\n",
    "#df_tmp.to_csv('tmp.csv',index=False)\r\n",
    "df_tmp.head()"
   ]
  },
  {
   "cell_type": "code",
   "execution_count": null,
   "metadata": {},
   "outputs": [],
   "source": [
    "df_tmp.groupby(['match_id','batting_team','innings']).sum()"
   ]
  },
  {
   "cell_type": "code",
   "execution_count": null,
   "metadata": {},
   "outputs": [],
   "source": [
    "df_tmp.groupby(['match_id','batting_team','innings']).sum().to_csv('6_overs_all_match_details.csv')"
   ]
  },
  {
   "cell_type": "code",
   "execution_count": null,
   "metadata": {},
   "outputs": [],
   "source": []
  }
 ],
 "metadata": {
  "kernelspec": {
   "name": "python385jvsc74a57bd077dcdf196944021a492e8af9322675174f43bd84fa8cdc1beb5f85b333fd20f6",
   "display_name": "Python 3.8.5 64-bit"
  },
  "language_info": {
   "codemirror_mode": {
    "name": "ipython",
    "version": 3
   },
   "file_extension": ".py",
   "mimetype": "text/x-python",
   "name": "python",
   "nbconvert_exporter": "python",
   "pygments_lexer": "ipython3",
   "version": "3.8.5-final"
  },
  "metadata": {
   "interpreter": {
    "hash": "77dcdf196944021a492e8af9322675174f43bd84fa8cdc1beb5f85b333fd20f6"
   }
  }
 },
 "nbformat": 4,
 "nbformat_minor": 2
}