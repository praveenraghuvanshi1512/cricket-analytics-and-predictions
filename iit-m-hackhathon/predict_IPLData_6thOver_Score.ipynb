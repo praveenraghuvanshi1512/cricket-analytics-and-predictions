{
 "cells": [
  {
   "source": [
    "# Things to know:\n",
    "1. Number of teams?? >> 14 - Teams\n",
    "2. How many matches played by each team?? \n",
    "3. Each teams 1st 6-overs score sum??"
   ],
   "cell_type": "markdown",
   "metadata": {}
  },
  {
   "cell_type": "code",
   "execution_count": 1,
   "metadata": {},
   "outputs": [],
   "source": [
    "from sklearn.preprocessing import LabelEncoder\n",
    "vennue_LE = LabelEncoder()"
   ]
  },
  {
   "cell_type": "code",
   "execution_count": 2,
   "metadata": {},
   "outputs": [
    {
     "output_type": "stream",
     "name": "stderr",
     "text": [
      "C:\\Users\\praghuvanshi\\AppData\\Roaming\\Python\\Python39\\site-packages\\IPython\\core\\interactiveshell.py:3165: DtypeWarning: Columns (1) have mixed types.Specify dtype option on import or set low_memory=False.\n  has_raised = await self.run_ast_nodes(code_ast.body, cell_name,\n"
     ]
    },
    {
     "output_type": "execute_result",
     "data": {
      "text/plain": [
       "   match_id   season start_date                  venue  innings  ball  \\\n",
       "0    335982  2007/08  4/18/2008  M Chinnaswamy Stadium        1   0.1   \n",
       "1    335982  2007/08  4/18/2008  M Chinnaswamy Stadium        1   0.2   \n",
       "2    335982  2007/08  4/18/2008  M Chinnaswamy Stadium        1   0.3   \n",
       "3    335982  2007/08  4/18/2008  M Chinnaswamy Stadium        1   0.4   \n",
       "4    335982  2007/08  4/18/2008  M Chinnaswamy Stadium        1   0.5   \n",
       "\n",
       "            batting_team                 bowling_team      striker  \\\n",
       "0  Kolkata Knight Riders  Royal Challengers Bangalore   SC Ganguly   \n",
       "1  Kolkata Knight Riders  Royal Challengers Bangalore  BB McCullum   \n",
       "2  Kolkata Knight Riders  Royal Challengers Bangalore  BB McCullum   \n",
       "3  Kolkata Knight Riders  Royal Challengers Bangalore  BB McCullum   \n",
       "4  Kolkata Knight Riders  Royal Challengers Bangalore  BB McCullum   \n",
       "\n",
       "   non_striker  ... extras  wides  noballs  byes  legbyes  penalty  \\\n",
       "0  BB McCullum  ...      1    NaN      NaN   NaN      1.0      NaN   \n",
       "1   SC Ganguly  ...      0    NaN      NaN   NaN      NaN      NaN   \n",
       "2   SC Ganguly  ...      1    1.0      NaN   NaN      NaN      NaN   \n",
       "3   SC Ganguly  ...      0    NaN      NaN   NaN      NaN      NaN   \n",
       "4   SC Ganguly  ...      0    NaN      NaN   NaN      NaN      NaN   \n",
       "\n",
       "   wicket_type  player_dismissed other_wicket_type other_player_dismissed  \n",
       "0          NaN               NaN               NaN                    NaN  \n",
       "1          NaN               NaN               NaN                    NaN  \n",
       "2          NaN               NaN               NaN                    NaN  \n",
       "3          NaN               NaN               NaN                    NaN  \n",
       "4          NaN               NaN               NaN                    NaN  \n",
       "\n",
       "[5 rows x 22 columns]"
      ],
      "text/html": "<div>\n<style scoped>\n    .dataframe tbody tr th:only-of-type {\n        vertical-align: middle;\n    }\n\n    .dataframe tbody tr th {\n        vertical-align: top;\n    }\n\n    .dataframe thead th {\n        text-align: right;\n    }\n</style>\n<table border=\"1\" class=\"dataframe\">\n  <thead>\n    <tr style=\"text-align: right;\">\n      <th></th>\n      <th>match_id</th>\n      <th>season</th>\n      <th>start_date</th>\n      <th>venue</th>\n      <th>innings</th>\n      <th>ball</th>\n      <th>batting_team</th>\n      <th>bowling_team</th>\n      <th>striker</th>\n      <th>non_striker</th>\n      <th>...</th>\n      <th>extras</th>\n      <th>wides</th>\n      <th>noballs</th>\n      <th>byes</th>\n      <th>legbyes</th>\n      <th>penalty</th>\n      <th>wicket_type</th>\n      <th>player_dismissed</th>\n      <th>other_wicket_type</th>\n      <th>other_player_dismissed</th>\n    </tr>\n  </thead>\n  <tbody>\n    <tr>\n      <th>0</th>\n      <td>335982</td>\n      <td>2007/08</td>\n      <td>4/18/2008</td>\n      <td>M Chinnaswamy Stadium</td>\n      <td>1</td>\n      <td>0.1</td>\n      <td>Kolkata Knight Riders</td>\n      <td>Royal Challengers Bangalore</td>\n      <td>SC Ganguly</td>\n      <td>BB McCullum</td>\n      <td>...</td>\n      <td>1</td>\n      <td>NaN</td>\n      <td>NaN</td>\n      <td>NaN</td>\n      <td>1.0</td>\n      <td>NaN</td>\n      <td>NaN</td>\n      <td>NaN</td>\n      <td>NaN</td>\n      <td>NaN</td>\n    </tr>\n    <tr>\n      <th>1</th>\n      <td>335982</td>\n      <td>2007/08</td>\n      <td>4/18/2008</td>\n      <td>M Chinnaswamy Stadium</td>\n      <td>1</td>\n      <td>0.2</td>\n      <td>Kolkata Knight Riders</td>\n      <td>Royal Challengers Bangalore</td>\n      <td>BB McCullum</td>\n      <td>SC Ganguly</td>\n      <td>...</td>\n      <td>0</td>\n      <td>NaN</td>\n      <td>NaN</td>\n      <td>NaN</td>\n      <td>NaN</td>\n      <td>NaN</td>\n      <td>NaN</td>\n      <td>NaN</td>\n      <td>NaN</td>\n      <td>NaN</td>\n    </tr>\n    <tr>\n      <th>2</th>\n      <td>335982</td>\n      <td>2007/08</td>\n      <td>4/18/2008</td>\n      <td>M Chinnaswamy Stadium</td>\n      <td>1</td>\n      <td>0.3</td>\n      <td>Kolkata Knight Riders</td>\n      <td>Royal Challengers Bangalore</td>\n      <td>BB McCullum</td>\n      <td>SC Ganguly</td>\n      <td>...</td>\n      <td>1</td>\n      <td>1.0</td>\n      <td>NaN</td>\n      <td>NaN</td>\n      <td>NaN</td>\n      <td>NaN</td>\n      <td>NaN</td>\n      <td>NaN</td>\n      <td>NaN</td>\n      <td>NaN</td>\n    </tr>\n    <tr>\n      <th>3</th>\n      <td>335982</td>\n      <td>2007/08</td>\n      <td>4/18/2008</td>\n      <td>M Chinnaswamy Stadium</td>\n      <td>1</td>\n      <td>0.4</td>\n      <td>Kolkata Knight Riders</td>\n      <td>Royal Challengers Bangalore</td>\n      <td>BB McCullum</td>\n      <td>SC Ganguly</td>\n      <td>...</td>\n      <td>0</td>\n      <td>NaN</td>\n      <td>NaN</td>\n      <td>NaN</td>\n      <td>NaN</td>\n      <td>NaN</td>\n      <td>NaN</td>\n      <td>NaN</td>\n      <td>NaN</td>\n      <td>NaN</td>\n    </tr>\n    <tr>\n      <th>4</th>\n      <td>335982</td>\n      <td>2007/08</td>\n      <td>4/18/2008</td>\n      <td>M Chinnaswamy Stadium</td>\n      <td>1</td>\n      <td>0.5</td>\n      <td>Kolkata Knight Riders</td>\n      <td>Royal Challengers Bangalore</td>\n      <td>BB McCullum</td>\n      <td>SC Ganguly</td>\n      <td>...</td>\n      <td>0</td>\n      <td>NaN</td>\n      <td>NaN</td>\n      <td>NaN</td>\n      <td>NaN</td>\n      <td>NaN</td>\n      <td>NaN</td>\n      <td>NaN</td>\n      <td>NaN</td>\n      <td>NaN</td>\n    </tr>\n  </tbody>\n</table>\n<p>5 rows × 22 columns</p>\n</div>"
     },
     "metadata": {},
     "execution_count": 2
    }
   ],
   "source": [
    "import pandas as pd\n",
    "from pprint import pprint\n",
    "\n",
    "df_org = pd.read_csv('dataset/all_matches.csv')\n",
    "df = df_org.copy()\n",
    "\n",
    "df.head()"
   ]
  },
  {
   "cell_type": "code",
   "execution_count": 3,
   "metadata": {},
   "outputs": [
    {
     "output_type": "stream",
     "name": "stdout",
     "text": [
      "Total teams Participated : 15\n\n\nThey are : \n\n['Kolkata Knight Riders',\n 'Royal Challengers Bangalore',\n 'Chennai Super Kings',\n 'Kings XI Punjab',\n 'Rajasthan Royals',\n 'Delhi Daredevils',\n 'Deccan Chargers',\n 'Mumbai Indians',\n 'Kochi Tuskers Kerala',\n 'Pune Warriors',\n 'Sunrisers Hyderabad',\n 'Rising Pune Supergiants',\n 'Gujarat Lions',\n 'Rising Pune Supergiant',\n 'Delhi Capitals']\n"
     ]
    }
   ],
   "source": [
    "print(f'Total teams Participated : {df.batting_team.unique().shape[0]}\\n\\n\\nThey are : \\n')\n",
    "pprint(list(df.batting_team.unique()))\n"
   ]
  },
  {
   "cell_type": "markdown",
   "metadata": {},
   "source": [
    "Here as we can see '2' names for the same team : 'Rising Pune Supergiants' and 'Rising Pune Supergiant'\n",
    "So replace with one name"
   ]
  },
  {
   "cell_type": "code",
   "execution_count": 4,
   "metadata": {},
   "outputs": [],
   "source": [
    "df.batting_team.replace(to_replace='Rising Pune Supergiant',value='Rising Pune Supergiants',inplace=True)"
   ]
  },
  {
   "cell_type": "code",
   "execution_count": 5,
   "metadata": {},
   "outputs": [
    {
     "output_type": "stream",
     "name": "stdout",
     "text": [
      "['Kolkata Knight Riders',\n 'Royal Challengers Bangalore',\n 'Chennai Super Kings',\n 'Kings XI Punjab',\n 'Rajasthan Royals',\n 'Delhi Daredevils',\n 'Deccan Chargers',\n 'Mumbai Indians',\n 'Kochi Tuskers Kerala',\n 'Pune Warriors',\n 'Sunrisers Hyderabad',\n 'Rising Pune Supergiants',\n 'Gujarat Lions',\n 'Delhi Capitals']\n"
     ]
    }
   ],
   "source": [
    "pprint(list(df.batting_team.unique()))"
   ]
  },
  {
   "source": [
    "# Filter the dataset w.r.t 6-overs details"
   ],
   "cell_type": "markdown",
   "metadata": {}
  },
  {
   "cell_type": "code",
   "execution_count": 6,
   "metadata": {},
   "outputs": [],
   "source": [
    "df_tmp = df.loc[(df.ball>=0.0)&(df.ball<=6.0)]\n"
   ]
  },
  {
   "cell_type": "code",
   "execution_count": 7,
   "metadata": {},
   "outputs": [
    {
     "output_type": "stream",
     "name": "stderr",
     "text": [
      "<ipython-input-7-38d4282afe88>:1: SettingWithCopyWarning: \nA value is trying to be set on a copy of a slice from a DataFrame.\nTry using .loc[row_indexer,col_indexer] = value instead\n\nSee the caveats in the documentation: https://pandas.pydata.org/pandas-docs/stable/user_guide/indexing.html#returning-a-view-versus-a-copy\n  df_tmp['Total_runs_in_6_Overs'] = df_tmp.runs_off_bat+df_tmp.extras\n"
     ]
    }
   ],
   "source": [
    "df_tmp['Total_runs_in_6_Overs'] = df_tmp.runs_off_bat+df_tmp.extras\n",
    "#df_tmp.to_csv('tmp.csv',index=False)"
   ]
  },
  {
   "cell_type": "code",
   "execution_count": 8,
   "metadata": {},
   "outputs": [
    {
     "output_type": "stream",
     "name": "stderr",
     "text": [
      "<ipython-input-8-05cc470aa65b>:1: SettingWithCopyWarning: \nA value is trying to be set on a copy of a slice from a DataFrame.\nTry using .loc[row_indexer,col_indexer] = value instead\n\nSee the caveats in the documentation: https://pandas.pydata.org/pandas-docs/stable/user_guide/indexing.html#returning-a-view-versus-a-copy\n  df_tmp['venue'] = vennue_LE.fit_transform(df_tmp.venue)\n"
     ]
    }
   ],
   "source": [
    "df_tmp['venue'] = vennue_LE.fit_transform(df_tmp.venue)"
   ]
  },
  {
   "cell_type": "code",
   "execution_count": 9,
   "metadata": {},
   "outputs": [
    {
     "output_type": "execute_result",
     "data": {
      "text/plain": [
       "        match_id   season start_date  venue  innings  ball  \\\n",
       "0         335982  2007/08  4/18/2008     15        1   0.1   \n",
       "1         335982  2007/08  4/18/2008     15        1   0.2   \n",
       "2         335982  2007/08  4/18/2008     15        1   0.3   \n",
       "3         335982  2007/08  4/18/2008     15        1   0.4   \n",
       "4         335982  2007/08  4/18/2008     15        1   0.5   \n",
       "...          ...      ...        ...    ...      ...   ...   \n",
       "194260   1254060     2021  4/11/2021     19        2   5.2   \n",
       "194261   1254060     2021  4/11/2021     19        2   5.3   \n",
       "194262   1254060     2021  4/11/2021     19        2   5.4   \n",
       "194263   1254060     2021  4/11/2021     19        2   5.5   \n",
       "194264   1254060     2021  4/11/2021     19        2   5.6   \n",
       "\n",
       "                 batting_team                 bowling_team      striker  \\\n",
       "0       Kolkata Knight Riders  Royal Challengers Bangalore   SC Ganguly   \n",
       "1       Kolkata Knight Riders  Royal Challengers Bangalore  BB McCullum   \n",
       "2       Kolkata Knight Riders  Royal Challengers Bangalore  BB McCullum   \n",
       "3       Kolkata Knight Riders  Royal Challengers Bangalore  BB McCullum   \n",
       "4       Kolkata Knight Riders  Royal Challengers Bangalore  BB McCullum   \n",
       "...                       ...                          ...          ...   \n",
       "194260    Sunrisers Hyderabad        Kolkata Knight Riders  JM Bairstow   \n",
       "194261    Sunrisers Hyderabad        Kolkata Knight Riders  JM Bairstow   \n",
       "194262    Sunrisers Hyderabad        Kolkata Knight Riders    MK Pandey   \n",
       "194263    Sunrisers Hyderabad        Kolkata Knight Riders    MK Pandey   \n",
       "194264    Sunrisers Hyderabad        Kolkata Knight Riders    MK Pandey   \n",
       "\n",
       "        non_striker  ... wides  noballs  byes  legbyes  penalty  wicket_type  \\\n",
       "0       BB McCullum  ...   NaN      NaN   NaN      1.0      NaN          NaN   \n",
       "1        SC Ganguly  ...   NaN      NaN   NaN      NaN      NaN          NaN   \n",
       "2        SC Ganguly  ...   1.0      NaN   NaN      NaN      NaN          NaN   \n",
       "3        SC Ganguly  ...   NaN      NaN   NaN      NaN      NaN          NaN   \n",
       "4        SC Ganguly  ...   NaN      NaN   NaN      NaN      NaN          NaN   \n",
       "...             ...  ...   ...      ...   ...      ...      ...          ...   \n",
       "194260    MK Pandey  ...   NaN      NaN   NaN      NaN      NaN          NaN   \n",
       "194261    MK Pandey  ...   NaN      NaN   NaN      NaN      NaN          NaN   \n",
       "194262  JM Bairstow  ...   NaN      NaN   NaN      NaN      NaN          NaN   \n",
       "194263  JM Bairstow  ...   NaN      NaN   NaN      NaN      NaN          NaN   \n",
       "194264  JM Bairstow  ...   NaN      NaN   NaN      NaN      NaN          NaN   \n",
       "\n",
       "        player_dismissed  other_wicket_type other_player_dismissed  \\\n",
       "0                    NaN                NaN                    NaN   \n",
       "1                    NaN                NaN                    NaN   \n",
       "2                    NaN                NaN                    NaN   \n",
       "3                    NaN                NaN                    NaN   \n",
       "4                    NaN                NaN                    NaN   \n",
       "...                  ...                ...                    ...   \n",
       "194260               NaN                NaN                    NaN   \n",
       "194261               NaN                NaN                    NaN   \n",
       "194262               NaN                NaN                    NaN   \n",
       "194263               NaN                NaN                    NaN   \n",
       "194264               NaN                NaN                    NaN   \n",
       "\n",
       "       Total_runs_in_6_Overs  \n",
       "0                          1  \n",
       "1                          0  \n",
       "2                          1  \n",
       "3                          0  \n",
       "4                          0  \n",
       "...                      ...  \n",
       "194260                     0  \n",
       "194261                     1  \n",
       "194262                     0  \n",
       "194263                     0  \n",
       "194264                     1  \n",
       "\n",
       "[61307 rows x 23 columns]"
      ],
      "text/html": "<div>\n<style scoped>\n    .dataframe tbody tr th:only-of-type {\n        vertical-align: middle;\n    }\n\n    .dataframe tbody tr th {\n        vertical-align: top;\n    }\n\n    .dataframe thead th {\n        text-align: right;\n    }\n</style>\n<table border=\"1\" class=\"dataframe\">\n  <thead>\n    <tr style=\"text-align: right;\">\n      <th></th>\n      <th>match_id</th>\n      <th>season</th>\n      <th>start_date</th>\n      <th>venue</th>\n      <th>innings</th>\n      <th>ball</th>\n      <th>batting_team</th>\n      <th>bowling_team</th>\n      <th>striker</th>\n      <th>non_striker</th>\n      <th>...</th>\n      <th>wides</th>\n      <th>noballs</th>\n      <th>byes</th>\n      <th>legbyes</th>\n      <th>penalty</th>\n      <th>wicket_type</th>\n      <th>player_dismissed</th>\n      <th>other_wicket_type</th>\n      <th>other_player_dismissed</th>\n      <th>Total_runs_in_6_Overs</th>\n    </tr>\n  </thead>\n  <tbody>\n    <tr>\n      <th>0</th>\n      <td>335982</td>\n      <td>2007/08</td>\n      <td>4/18/2008</td>\n      <td>15</td>\n      <td>1</td>\n      <td>0.1</td>\n      <td>Kolkata Knight Riders</td>\n      <td>Royal Challengers Bangalore</td>\n      <td>SC Ganguly</td>\n      <td>BB McCullum</td>\n      <td>...</td>\n      <td>NaN</td>\n      <td>NaN</td>\n      <td>NaN</td>\n      <td>1.0</td>\n      <td>NaN</td>\n      <td>NaN</td>\n      <td>NaN</td>\n      <td>NaN</td>\n      <td>NaN</td>\n      <td>1</td>\n    </tr>\n    <tr>\n      <th>1</th>\n      <td>335982</td>\n      <td>2007/08</td>\n      <td>4/18/2008</td>\n      <td>15</td>\n      <td>1</td>\n      <td>0.2</td>\n      <td>Kolkata Knight Riders</td>\n      <td>Royal Challengers Bangalore</td>\n      <td>BB McCullum</td>\n      <td>SC Ganguly</td>\n      <td>...</td>\n      <td>NaN</td>\n      <td>NaN</td>\n      <td>NaN</td>\n      <td>NaN</td>\n      <td>NaN</td>\n      <td>NaN</td>\n      <td>NaN</td>\n      <td>NaN</td>\n      <td>NaN</td>\n      <td>0</td>\n    </tr>\n    <tr>\n      <th>2</th>\n      <td>335982</td>\n      <td>2007/08</td>\n      <td>4/18/2008</td>\n      <td>15</td>\n      <td>1</td>\n      <td>0.3</td>\n      <td>Kolkata Knight Riders</td>\n      <td>Royal Challengers Bangalore</td>\n      <td>BB McCullum</td>\n      <td>SC Ganguly</td>\n      <td>...</td>\n      <td>1.0</td>\n      <td>NaN</td>\n      <td>NaN</td>\n      <td>NaN</td>\n      <td>NaN</td>\n      <td>NaN</td>\n      <td>NaN</td>\n      <td>NaN</td>\n      <td>NaN</td>\n      <td>1</td>\n    </tr>\n    <tr>\n      <th>3</th>\n      <td>335982</td>\n      <td>2007/08</td>\n      <td>4/18/2008</td>\n      <td>15</td>\n      <td>1</td>\n      <td>0.4</td>\n      <td>Kolkata Knight Riders</td>\n      <td>Royal Challengers Bangalore</td>\n      <td>BB McCullum</td>\n      <td>SC Ganguly</td>\n      <td>...</td>\n      <td>NaN</td>\n      <td>NaN</td>\n      <td>NaN</td>\n      <td>NaN</td>\n      <td>NaN</td>\n      <td>NaN</td>\n      <td>NaN</td>\n      <td>NaN</td>\n      <td>NaN</td>\n      <td>0</td>\n    </tr>\n    <tr>\n      <th>4</th>\n      <td>335982</td>\n      <td>2007/08</td>\n      <td>4/18/2008</td>\n      <td>15</td>\n      <td>1</td>\n      <td>0.5</td>\n      <td>Kolkata Knight Riders</td>\n      <td>Royal Challengers Bangalore</td>\n      <td>BB McCullum</td>\n      <td>SC Ganguly</td>\n      <td>...</td>\n      <td>NaN</td>\n      <td>NaN</td>\n      <td>NaN</td>\n      <td>NaN</td>\n      <td>NaN</td>\n      <td>NaN</td>\n      <td>NaN</td>\n      <td>NaN</td>\n      <td>NaN</td>\n      <td>0</td>\n    </tr>\n    <tr>\n      <th>...</th>\n      <td>...</td>\n      <td>...</td>\n      <td>...</td>\n      <td>...</td>\n      <td>...</td>\n      <td>...</td>\n      <td>...</td>\n      <td>...</td>\n      <td>...</td>\n      <td>...</td>\n      <td>...</td>\n      <td>...</td>\n      <td>...</td>\n      <td>...</td>\n      <td>...</td>\n      <td>...</td>\n      <td>...</td>\n      <td>...</td>\n      <td>...</td>\n      <td>...</td>\n      <td>...</td>\n    </tr>\n    <tr>\n      <th>194260</th>\n      <td>1254060</td>\n      <td>2021</td>\n      <td>4/11/2021</td>\n      <td>19</td>\n      <td>2</td>\n      <td>5.2</td>\n      <td>Sunrisers Hyderabad</td>\n      <td>Kolkata Knight Riders</td>\n      <td>JM Bairstow</td>\n      <td>MK Pandey</td>\n      <td>...</td>\n      <td>NaN</td>\n      <td>NaN</td>\n      <td>NaN</td>\n      <td>NaN</td>\n      <td>NaN</td>\n      <td>NaN</td>\n      <td>NaN</td>\n      <td>NaN</td>\n      <td>NaN</td>\n      <td>0</td>\n    </tr>\n    <tr>\n      <th>194261</th>\n      <td>1254060</td>\n      <td>2021</td>\n      <td>4/11/2021</td>\n      <td>19</td>\n      <td>2</td>\n      <td>5.3</td>\n      <td>Sunrisers Hyderabad</td>\n      <td>Kolkata Knight Riders</td>\n      <td>JM Bairstow</td>\n      <td>MK Pandey</td>\n      <td>...</td>\n      <td>NaN</td>\n      <td>NaN</td>\n      <td>NaN</td>\n      <td>NaN</td>\n      <td>NaN</td>\n      <td>NaN</td>\n      <td>NaN</td>\n      <td>NaN</td>\n      <td>NaN</td>\n      <td>1</td>\n    </tr>\n    <tr>\n      <th>194262</th>\n      <td>1254060</td>\n      <td>2021</td>\n      <td>4/11/2021</td>\n      <td>19</td>\n      <td>2</td>\n      <td>5.4</td>\n      <td>Sunrisers Hyderabad</td>\n      <td>Kolkata Knight Riders</td>\n      <td>MK Pandey</td>\n      <td>JM Bairstow</td>\n      <td>...</td>\n      <td>NaN</td>\n      <td>NaN</td>\n      <td>NaN</td>\n      <td>NaN</td>\n      <td>NaN</td>\n      <td>NaN</td>\n      <td>NaN</td>\n      <td>NaN</td>\n      <td>NaN</td>\n      <td>0</td>\n    </tr>\n    <tr>\n      <th>194263</th>\n      <td>1254060</td>\n      <td>2021</td>\n      <td>4/11/2021</td>\n      <td>19</td>\n      <td>2</td>\n      <td>5.5</td>\n      <td>Sunrisers Hyderabad</td>\n      <td>Kolkata Knight Riders</td>\n      <td>MK Pandey</td>\n      <td>JM Bairstow</td>\n      <td>...</td>\n      <td>NaN</td>\n      <td>NaN</td>\n      <td>NaN</td>\n      <td>NaN</td>\n      <td>NaN</td>\n      <td>NaN</td>\n      <td>NaN</td>\n      <td>NaN</td>\n      <td>NaN</td>\n      <td>0</td>\n    </tr>\n    <tr>\n      <th>194264</th>\n      <td>1254060</td>\n      <td>2021</td>\n      <td>4/11/2021</td>\n      <td>19</td>\n      <td>2</td>\n      <td>5.6</td>\n      <td>Sunrisers Hyderabad</td>\n      <td>Kolkata Knight Riders</td>\n      <td>MK Pandey</td>\n      <td>JM Bairstow</td>\n      <td>...</td>\n      <td>NaN</td>\n      <td>NaN</td>\n      <td>NaN</td>\n      <td>NaN</td>\n      <td>NaN</td>\n      <td>NaN</td>\n      <td>NaN</td>\n      <td>NaN</td>\n      <td>NaN</td>\n      <td>1</td>\n    </tr>\n  </tbody>\n</table>\n<p>61307 rows × 23 columns</p>\n</div>"
     },
     "metadata": {},
     "execution_count": 9
    }
   ],
   "source": [
    "df_tmp"
   ]
  },
  {
   "cell_type": "code",
   "execution_count": 10,
   "metadata": {},
   "outputs": [
    {
     "output_type": "stream",
     "name": "stderr",
     "text": [
      "C:\\Users\\praghuvanshi\\AppData\\Roaming\\Python\\Python39\\site-packages\\pandas\\core\\frame.py:4308: SettingWithCopyWarning: \nA value is trying to be set on a copy of a slice from a DataFrame\n\nSee the caveats in the documentation: https://pandas.pydata.org/pandas-docs/stable/user_guide/indexing.html#returning-a-view-versus-a-copy\n  return super().drop(\n"
     ]
    },
    {
     "output_type": "execute_result",
     "data": {
      "text/plain": [
       "   match_id   season start_date  venue  innings  ball           batting_team  \\\n",
       "0    335982  2007/08  4/18/2008     15        1   0.1  Kolkata Knight Riders   \n",
       "1    335982  2007/08  4/18/2008     15        1   0.2  Kolkata Knight Riders   \n",
       "2    335982  2007/08  4/18/2008     15        1   0.3  Kolkata Knight Riders   \n",
       "3    335982  2007/08  4/18/2008     15        1   0.4  Kolkata Knight Riders   \n",
       "4    335982  2007/08  4/18/2008     15        1   0.5  Kolkata Knight Riders   \n",
       "\n",
       "                  bowling_team      striker  non_striker   bowler  \\\n",
       "0  Royal Challengers Bangalore   SC Ganguly  BB McCullum  P Kumar   \n",
       "1  Royal Challengers Bangalore  BB McCullum   SC Ganguly  P Kumar   \n",
       "2  Royal Challengers Bangalore  BB McCullum   SC Ganguly  P Kumar   \n",
       "3  Royal Challengers Bangalore  BB McCullum   SC Ganguly  P Kumar   \n",
       "4  Royal Challengers Bangalore  BB McCullum   SC Ganguly  P Kumar   \n",
       "\n",
       "   runs_off_bat  extras  Total_runs_in_6_Overs  \n",
       "0             0       1                      1  \n",
       "1             0       0                      0  \n",
       "2             0       1                      1  \n",
       "3             0       0                      0  \n",
       "4             0       0                      0  "
      ],
      "text/html": "<div>\n<style scoped>\n    .dataframe tbody tr th:only-of-type {\n        vertical-align: middle;\n    }\n\n    .dataframe tbody tr th {\n        vertical-align: top;\n    }\n\n    .dataframe thead th {\n        text-align: right;\n    }\n</style>\n<table border=\"1\" class=\"dataframe\">\n  <thead>\n    <tr style=\"text-align: right;\">\n      <th></th>\n      <th>match_id</th>\n      <th>season</th>\n      <th>start_date</th>\n      <th>venue</th>\n      <th>innings</th>\n      <th>ball</th>\n      <th>batting_team</th>\n      <th>bowling_team</th>\n      <th>striker</th>\n      <th>non_striker</th>\n      <th>bowler</th>\n      <th>runs_off_bat</th>\n      <th>extras</th>\n      <th>Total_runs_in_6_Overs</th>\n    </tr>\n  </thead>\n  <tbody>\n    <tr>\n      <th>0</th>\n      <td>335982</td>\n      <td>2007/08</td>\n      <td>4/18/2008</td>\n      <td>15</td>\n      <td>1</td>\n      <td>0.1</td>\n      <td>Kolkata Knight Riders</td>\n      <td>Royal Challengers Bangalore</td>\n      <td>SC Ganguly</td>\n      <td>BB McCullum</td>\n      <td>P Kumar</td>\n      <td>0</td>\n      <td>1</td>\n      <td>1</td>\n    </tr>\n    <tr>\n      <th>1</th>\n      <td>335982</td>\n      <td>2007/08</td>\n      <td>4/18/2008</td>\n      <td>15</td>\n      <td>1</td>\n      <td>0.2</td>\n      <td>Kolkata Knight Riders</td>\n      <td>Royal Challengers Bangalore</td>\n      <td>BB McCullum</td>\n      <td>SC Ganguly</td>\n      <td>P Kumar</td>\n      <td>0</td>\n      <td>0</td>\n      <td>0</td>\n    </tr>\n    <tr>\n      <th>2</th>\n      <td>335982</td>\n      <td>2007/08</td>\n      <td>4/18/2008</td>\n      <td>15</td>\n      <td>1</td>\n      <td>0.3</td>\n      <td>Kolkata Knight Riders</td>\n      <td>Royal Challengers Bangalore</td>\n      <td>BB McCullum</td>\n      <td>SC Ganguly</td>\n      <td>P Kumar</td>\n      <td>0</td>\n      <td>1</td>\n      <td>1</td>\n    </tr>\n    <tr>\n      <th>3</th>\n      <td>335982</td>\n      <td>2007/08</td>\n      <td>4/18/2008</td>\n      <td>15</td>\n      <td>1</td>\n      <td>0.4</td>\n      <td>Kolkata Knight Riders</td>\n      <td>Royal Challengers Bangalore</td>\n      <td>BB McCullum</td>\n      <td>SC Ganguly</td>\n      <td>P Kumar</td>\n      <td>0</td>\n      <td>0</td>\n      <td>0</td>\n    </tr>\n    <tr>\n      <th>4</th>\n      <td>335982</td>\n      <td>2007/08</td>\n      <td>4/18/2008</td>\n      <td>15</td>\n      <td>1</td>\n      <td>0.5</td>\n      <td>Kolkata Knight Riders</td>\n      <td>Royal Challengers Bangalore</td>\n      <td>BB McCullum</td>\n      <td>SC Ganguly</td>\n      <td>P Kumar</td>\n      <td>0</td>\n      <td>0</td>\n      <td>0</td>\n    </tr>\n  </tbody>\n</table>\n</div>"
     },
     "metadata": {},
     "execution_count": 10
    }
   ],
   "source": [
    "df_tmp.drop(columns=['wides',\n",
    " 'noballs',\n",
    " 'byes',\n",
    " 'legbyes',\n",
    " 'penalty',\n",
    " 'wicket_type',\n",
    " 'player_dismissed',\n",
    " 'other_wicket_type',\n",
    " 'other_player_dismissed'],axis=1,inplace=True)\n",
    "\n",
    "#df_tmp.to_csv('tmp.csv',index=False)\n",
    "df_tmp.head()"
   ]
  },
  {
   "cell_type": "code",
   "execution_count": 11,
   "metadata": {},
   "outputs": [
    {
     "output_type": "execute_result",
     "data": {
      "text/plain": [
       "                                              venue   ball  runs_off_bat  \\\n",
       "match_id batting_team                innings                               \n",
       "335982   Kolkata Knight Riders       1          570  107.0            51   \n",
       "         Royal Challengers Bangalore 2          570  106.0            19   \n",
       "335983   Chennai Super Kings         1         1026  107.0            50   \n",
       "         Kings XI Punjab             2         1026  114.1            61   \n",
       "335984   Delhi Daredevils            2          342  110.0            53   \n",
       "...                                             ...    ...           ...   \n",
       "1254058  Royal Challengers Bangalore 2          741  112.7            38   \n",
       "1254059  Chennai Super Kings         1         1517  104.3            30   \n",
       "         Delhi Capitals              2         1476  102.6            65   \n",
       "1254060  Kolkata Knight Riders       1          684  102.6            50   \n",
       "         Sunrisers Hyderabad         2          684  102.6            35   \n",
       "\n",
       "                                              extras  Total_runs_in_6_Overs  \n",
       "match_id batting_team                innings                                 \n",
       "335982   Kolkata Knight Riders       1            10                     61  \n",
       "         Royal Challengers Bangalore 2             7                     26  \n",
       "335983   Chennai Super Kings         1             3                     53  \n",
       "         Kings XI Punjab             2             2                     63  \n",
       "335984   Delhi Daredevils            2             2                     55  \n",
       "...                                              ...                    ...  \n",
       "1254058  Royal Challengers Bangalore 2             8                     46  \n",
       "1254059  Chennai Super Kings         1             3                     33  \n",
       "         Delhi Capitals              2             0                     65  \n",
       "1254060  Kolkata Knight Riders       1             0                     50  \n",
       "         Sunrisers Hyderabad         2             0                     35  \n",
       "\n",
       "[1664 rows x 5 columns]"
      ],
      "text/html": "<div>\n<style scoped>\n    .dataframe tbody tr th:only-of-type {\n        vertical-align: middle;\n    }\n\n    .dataframe tbody tr th {\n        vertical-align: top;\n    }\n\n    .dataframe thead th {\n        text-align: right;\n    }\n</style>\n<table border=\"1\" class=\"dataframe\">\n  <thead>\n    <tr style=\"text-align: right;\">\n      <th></th>\n      <th></th>\n      <th></th>\n      <th>venue</th>\n      <th>ball</th>\n      <th>runs_off_bat</th>\n      <th>extras</th>\n      <th>Total_runs_in_6_Overs</th>\n    </tr>\n    <tr>\n      <th>match_id</th>\n      <th>batting_team</th>\n      <th>innings</th>\n      <th></th>\n      <th></th>\n      <th></th>\n      <th></th>\n      <th></th>\n    </tr>\n  </thead>\n  <tbody>\n    <tr>\n      <th rowspan=\"2\" valign=\"top\">335982</th>\n      <th>Kolkata Knight Riders</th>\n      <th>1</th>\n      <td>570</td>\n      <td>107.0</td>\n      <td>51</td>\n      <td>10</td>\n      <td>61</td>\n    </tr>\n    <tr>\n      <th>Royal Challengers Bangalore</th>\n      <th>2</th>\n      <td>570</td>\n      <td>106.0</td>\n      <td>19</td>\n      <td>7</td>\n      <td>26</td>\n    </tr>\n    <tr>\n      <th rowspan=\"2\" valign=\"top\">335983</th>\n      <th>Chennai Super Kings</th>\n      <th>1</th>\n      <td>1026</td>\n      <td>107.0</td>\n      <td>50</td>\n      <td>3</td>\n      <td>53</td>\n    </tr>\n    <tr>\n      <th>Kings XI Punjab</th>\n      <th>2</th>\n      <td>1026</td>\n      <td>114.1</td>\n      <td>61</td>\n      <td>2</td>\n      <td>63</td>\n    </tr>\n    <tr>\n      <th>335984</th>\n      <th>Delhi Daredevils</th>\n      <th>2</th>\n      <td>342</td>\n      <td>110.0</td>\n      <td>53</td>\n      <td>2</td>\n      <td>55</td>\n    </tr>\n    <tr>\n      <th>...</th>\n      <th>...</th>\n      <th>...</th>\n      <td>...</td>\n      <td>...</td>\n      <td>...</td>\n      <td>...</td>\n      <td>...</td>\n    </tr>\n    <tr>\n      <th>1254058</th>\n      <th>Royal Challengers Bangalore</th>\n      <th>2</th>\n      <td>741</td>\n      <td>112.7</td>\n      <td>38</td>\n      <td>8</td>\n      <td>46</td>\n    </tr>\n    <tr>\n      <th rowspan=\"2\" valign=\"top\">1254059</th>\n      <th>Chennai Super Kings</th>\n      <th>1</th>\n      <td>1517</td>\n      <td>104.3</td>\n      <td>30</td>\n      <td>3</td>\n      <td>33</td>\n    </tr>\n    <tr>\n      <th>Delhi Capitals</th>\n      <th>2</th>\n      <td>1476</td>\n      <td>102.6</td>\n      <td>65</td>\n      <td>0</td>\n      <td>65</td>\n    </tr>\n    <tr>\n      <th rowspan=\"2\" valign=\"top\">1254060</th>\n      <th>Kolkata Knight Riders</th>\n      <th>1</th>\n      <td>684</td>\n      <td>102.6</td>\n      <td>50</td>\n      <td>0</td>\n      <td>50</td>\n    </tr>\n    <tr>\n      <th>Sunrisers Hyderabad</th>\n      <th>2</th>\n      <td>684</td>\n      <td>102.6</td>\n      <td>35</td>\n      <td>0</td>\n      <td>35</td>\n    </tr>\n  </tbody>\n</table>\n<p>1664 rows × 5 columns</p>\n</div>"
     },
     "metadata": {},
     "execution_count": 11
    }
   ],
   "source": [
    "df_tmp.groupby(['match_id','batting_team','innings']).sum()"
   ]
  },
  {
   "cell_type": "code",
   "execution_count": 12,
   "metadata": {},
   "outputs": [],
   "source": [
    "df_tmp.groupby(['match_id','batting_team','innings']).sum().to_csv('dataset/6_overs_all_match_details.csv')"
   ]
  },
  {
   "cell_type": "code",
   "execution_count": 18,
   "metadata": {},
   "outputs": [],
   "source": [
    "df_6_overs = pd.read_csv('dataset/6_overs_all_match_details.csv')"
   ]
  },
  {
   "cell_type": "code",
   "execution_count": 19,
   "metadata": {},
   "outputs": [
    {
     "output_type": "execute_result",
     "data": {
      "text/plain": [
       "   match_id                 batting_team                 bowling_team  \\\n",
       "0    335982        Kolkata Knight Riders  Royal Challengers Bangalore   \n",
       "1    335982  Royal Challengers Bangalore        Kolkata Knight Riders   \n",
       "2    335983          Chennai Super Kings              Kings XI Punjab   \n",
       "3    335983              Kings XI Punjab          Chennai Super Kings   \n",
       "4    335984             Delhi Daredevils             Rajasthan Royals   \n",
       "\n",
       "   innings  venue   ball  runs_off_bat  extras  Total_runs_in_6_Overs  \n",
       "0        1    570  107.0            51      10                     61  \n",
       "1        2    570  106.0            19       7                     26  \n",
       "2        1   1026  107.0            50       3                     53  \n",
       "3        2   1026  114.1            61       2                     63  \n",
       "4        2    342  110.0            53       2                     55  "
      ],
      "text/html": "<div>\n<style scoped>\n    .dataframe tbody tr th:only-of-type {\n        vertical-align: middle;\n    }\n\n    .dataframe tbody tr th {\n        vertical-align: top;\n    }\n\n    .dataframe thead th {\n        text-align: right;\n    }\n</style>\n<table border=\"1\" class=\"dataframe\">\n  <thead>\n    <tr style=\"text-align: right;\">\n      <th></th>\n      <th>match_id</th>\n      <th>batting_team</th>\n      <th>bowling_team</th>\n      <th>innings</th>\n      <th>venue</th>\n      <th>ball</th>\n      <th>runs_off_bat</th>\n      <th>extras</th>\n      <th>Total_runs_in_6_Overs</th>\n    </tr>\n  </thead>\n  <tbody>\n    <tr>\n      <th>0</th>\n      <td>335982</td>\n      <td>Kolkata Knight Riders</td>\n      <td>Royal Challengers Bangalore</td>\n      <td>1</td>\n      <td>570</td>\n      <td>107.0</td>\n      <td>51</td>\n      <td>10</td>\n      <td>61</td>\n    </tr>\n    <tr>\n      <th>1</th>\n      <td>335982</td>\n      <td>Royal Challengers Bangalore</td>\n      <td>Kolkata Knight Riders</td>\n      <td>2</td>\n      <td>570</td>\n      <td>106.0</td>\n      <td>19</td>\n      <td>7</td>\n      <td>26</td>\n    </tr>\n    <tr>\n      <th>2</th>\n      <td>335983</td>\n      <td>Chennai Super Kings</td>\n      <td>Kings XI Punjab</td>\n      <td>1</td>\n      <td>1026</td>\n      <td>107.0</td>\n      <td>50</td>\n      <td>3</td>\n      <td>53</td>\n    </tr>\n    <tr>\n      <th>3</th>\n      <td>335983</td>\n      <td>Kings XI Punjab</td>\n      <td>Chennai Super Kings</td>\n      <td>2</td>\n      <td>1026</td>\n      <td>114.1</td>\n      <td>61</td>\n      <td>2</td>\n      <td>63</td>\n    </tr>\n    <tr>\n      <th>4</th>\n      <td>335984</td>\n      <td>Delhi Daredevils</td>\n      <td>Rajasthan Royals</td>\n      <td>2</td>\n      <td>342</td>\n      <td>110.0</td>\n      <td>53</td>\n      <td>2</td>\n      <td>55</td>\n    </tr>\n  </tbody>\n</table>\n</div>"
     },
     "metadata": {},
     "execution_count": 19
    }
   ],
   "source": [
    "df_6_overs.head()"
   ]
  },
  {
   "cell_type": "code",
   "execution_count": 59,
   "metadata": {},
   "outputs": [
    {
     "output_type": "stream",
     "name": "stdout",
     "text": [
      "<class 'pandas.core.frame.DataFrame'>\nRangeIndex: 1664 entries, 0 to 1663\nData columns (total 9 columns):\n #   Column                 Non-Null Count  Dtype  \n---  ------                 --------------  -----  \n 0   match_id               1664 non-null   int64  \n 1   batting_team           1664 non-null   object \n 2   bowling_team           1664 non-null   object \n 3   innings                1664 non-null   int64  \n 4   venue                  1664 non-null   int64  \n 5   ball                   1664 non-null   float64\n 6   runs_off_bat           1664 non-null   int64  \n 7   extras                 1664 non-null   int64  \n 8   Total_runs_in_6_Overs  1664 non-null   int64  \ndtypes: float64(1), int64(6), object(2)\nmemory usage: 117.1+ KB\n"
     ]
    }
   ],
   "source": [
    "df_6_overs.info()"
   ]
  },
  {
   "cell_type": "code",
   "execution_count": 60,
   "metadata": {},
   "outputs": [
    {
     "output_type": "stream",
     "name": "stdout",
     "text": [
      "   match_id  batting_team  bowling_team  innings  venue   ball  runs_off_bat  \\\n0    335982             7            13        1    570  107.0            51   \n1    335982            12             7        2    570  106.0            19   \n2    335983             0             5        1   1026  107.0            50   \n3    335983             5             0        2   1026  114.1            61   \n4    335984             3            10        2    342  110.0            53   \n\n   extras  Total_runs_in_6_Overs  \n0      10                     61  \n1       7                     26  \n2       3                     53  \n3       2                     63  \n4       2                     55  \n"
     ]
    }
   ],
   "source": [
    "from sklearn.preprocessing import LabelEncoder\n",
    "label_encoder = LabelEncoder()\n",
    "df_6_overs['batting_team'] = label_encoder.fit_transform(df_6_overs['batting_team'])\n",
    "df_6_overs['bowling_team'] = label_encoder.fit_transform(df_6_overs['bowling_team'])\n",
    "print(df_6_overs.head())"
   ]
  },
  {
   "cell_type": "code",
   "execution_count": 61,
   "metadata": {},
   "outputs": [],
   "source": [
    "X = df_6_overs.iloc[:,0:7].values\n",
    "y = df_6_overs.iloc[:,8].values"
   ]
  },
  {
   "cell_type": "code",
   "execution_count": 62,
   "metadata": {},
   "outputs": [
    {
     "output_type": "execute_result",
     "data": {
      "text/plain": [
       "array([[3.359820e+05, 7.000000e+00, 1.300000e+01, ..., 5.700000e+02,\n",
       "        1.070000e+02, 5.100000e+01],\n",
       "       [3.359820e+05, 1.200000e+01, 7.000000e+00, ..., 5.700000e+02,\n",
       "        1.060000e+02, 1.900000e+01],\n",
       "       [3.359830e+05, 0.000000e+00, 5.000000e+00, ..., 1.026000e+03,\n",
       "        1.070000e+02, 5.000000e+01],\n",
       "       ...,\n",
       "       [1.254059e+06, 2.000000e+00, 0.000000e+00, ..., 1.476000e+03,\n",
       "        1.026000e+02, 6.500000e+01],\n",
       "       [1.254060e+06, 7.000000e+00, 1.400000e+01, ..., 6.840000e+02,\n",
       "        1.026000e+02, 5.000000e+01],\n",
       "       [1.254060e+06, 1.300000e+01, 7.000000e+00, ..., 6.840000e+02,\n",
       "        1.026000e+02, 3.500000e+01]])"
      ]
     },
     "metadata": {},
     "execution_count": 62
    }
   ],
   "source": [
    "X"
   ]
  },
  {
   "cell_type": "code",
   "execution_count": 63,
   "metadata": {},
   "outputs": [
    {
     "output_type": "execute_result",
     "data": {
      "text/plain": [
       "array([61, 26, 53, ..., 65, 50, 35], dtype=int64)"
      ]
     },
     "metadata": {},
     "execution_count": 63
    }
   ],
   "source": [
    "Y"
   ]
  },
  {
   "cell_type": "code",
   "execution_count": 64,
   "metadata": {},
   "outputs": [],
   "source": [
    "from sklearn.model_selection import train_test_split\n",
    "\n",
    "X_train, X_test, y_train, y_test = train_test_split(X, y, test_size=0.25, random_state=0)"
   ]
  },
  {
   "cell_type": "code",
   "execution_count": 65,
   "metadata": {},
   "outputs": [],
   "source": [
    "from sklearn.preprocessing import StandardScaler\n",
    "\n",
    "sc = StandardScaler()\n",
    "\n",
    "X_train = sc.fit_transform(X_train)\n",
    "X_test = sc.transform(X_test)"
   ]
  },
  {
   "cell_type": "code",
   "execution_count": 66,
   "metadata": {},
   "outputs": [
    {
     "output_type": "execute_result",
     "data": {
      "text/plain": [
       "LinearRegression()"
      ]
     },
     "metadata": {},
     "execution_count": 66
    }
   ],
   "source": [
    "from sklearn.linear_model import LinearRegression\n",
    "lin = LinearRegression()\n",
    "lin.fit(X_train,y_train)"
   ]
  },
  {
   "cell_type": "code",
   "execution_count": 68,
   "metadata": {},
   "outputs": [
    {
     "output_type": "stream",
     "name": "stdout",
     "text": [
      "R-squared value: 97.03544338855143\n"
     ]
    }
   ],
   "source": [
    "y_pred = lin.predict(X_test)\n",
    "score = lin.score(X_test,y_test)*100\n",
    "print(\"R-squared value:\" , score)"
   ]
  },
  {
   "cell_type": "code",
   "execution_count": 74,
   "metadata": {},
   "outputs": [
    {
     "output_type": "execute_result",
     "data": {
      "text/plain": [
       "array([66.89355677, 39.72268158, 35.38694463, 27.73045185, 45.91577622,\n",
       "       52.75713832, 36.68970813, 47.10770296, 52.17490506, 40.64335603,\n",
       "       67.06929449, 53.31947292, 32.25150686, 41.47050029, 52.80176552,\n",
       "       46.07878721, 61.21483921, 69.31725424, 43.32753263, 41.41207791,\n",
       "       48.69264671, 25.61455445, 33.59053685, 37.12273803, 36.62583469,\n",
       "       71.08353364, 40.50442564, 41.05111828, 74.23773927, 38.32240787,\n",
       "       36.3259503 , 44.8500759 , 30.58172973, 51.05397448, 46.09715725,\n",
       "       63.01895917, 34.91578553, 65.95744001, 52.81614768, 39.84234991,\n",
       "       45.1270066 , 39.19015688, 65.89722737, 32.34412736, 53.88563365,\n",
       "       26.08389888, 30.34859343, 29.95658157, 31.7427111 , 57.19648447,\n",
       "       31.39411152, 61.71392717, 45.30931883, 38.24293133, 49.41014989,\n",
       "       50.91922877, 57.15990723, 50.84195156, 30.92406027, 42.22393574,\n",
       "       49.03830513, 23.38475318, 56.63908651, 63.01092025, 57.1634889 ,\n",
       "       77.55520649, 61.19577395, 34.17001506, 68.45013833, 28.47085983,\n",
       "       51.91535957, 48.1056681 , 50.09558721, 44.18420068, 62.25394084,\n",
       "       21.38582286, 44.67429252, 43.42564308, 23.81299617, 42.82557212,\n",
       "       53.11678751, 79.62563975, 35.96926659, 43.06859109, 26.49971125,\n",
       "       19.65626239, 38.22049301, 27.4688204 , 51.59332615, 62.41792757,\n",
       "       48.67685545, 37.38783841, 38.53027996, 51.85334673, 45.62098254,\n",
       "       53.54120049, 29.71481999, 48.0839928 , 51.74685184, 41.93449773,\n",
       "       35.85833675, 57.02741575, 36.3507198 , 57.05556664, 46.66021181,\n",
       "       49.20836483, 25.84244879, 58.76379209, 50.84225078, 42.64734201,\n",
       "       65.70805833, 30.52442638, 36.44888088, 43.04809751, 63.59618342,\n",
       "       41.02630765, 50.77974518, 48.46602079, 40.04922912, 29.7355549 ,\n",
       "       43.98294394, 64.52047096, 51.1007367 , 52.89806655, 37.97671039,\n",
       "       36.51806656,  9.58862262, 40.46295034, 34.29891927, 40.0906657 ,\n",
       "       40.10193219, 47.99773658, 51.21846861, 35.0424268 , 44.44610603,\n",
       "       35.80749115, 39.69220386, 69.68546961, 40.84705803, 61.50742713,\n",
       "       40.46717381, 35.92252366, 67.41343415, 32.42546969, 37.30387191,\n",
       "       24.59144523, 48.68103521, 35.75483488, 36.96072682, 48.93783983,\n",
       "       46.94414752, 36.10138378, 46.33561186, 74.81121935, 47.10811984,\n",
       "       60.12612336, 55.84878641, 38.57139111, 46.07178949, 58.61608436,\n",
       "       34.76571361, 44.80382398, 34.38333887, 40.20248056, 26.78924485,\n",
       "       40.3499087 , 51.71590563, 44.60396205, 73.0467467 , 39.49211971,\n",
       "       15.38650915, 33.80142729, 33.94084898, 34.84341471, 54.04669508,\n",
       "       54.73812516, 68.29656059, 28.56686269, 57.59808109, 51.04936513,\n",
       "       42.70410819, 37.15239545, 37.32187917, 34.63562273, 49.64218596,\n",
       "       51.68555094, 56.22825008, 52.05237891, 53.89235843, 41.52820839,\n",
       "       49.57217142, 55.76877531, 30.74592295, 29.01967212, 51.45045727,\n",
       "       29.23764496, 52.94618958, 33.84685722, 26.94797806, 52.12188531,\n",
       "       67.20554064, 25.90681913, 46.25194709, 58.69928294, 42.74935885,\n",
       "       46.52038989, 45.41745893, 48.11336314, 53.7750789 , 37.53097323,\n",
       "       64.13213006, 47.34355601, 26.64926295, 58.66052078, 50.70511059,\n",
       "       56.57640033, 31.89648258, 38.66011324, 27.3669679 , 59.52077191,\n",
       "       52.63940495, 33.70032491, 39.75964031, 52.16362198, 35.25100252,\n",
       "       62.20922761, 39.64997007, 46.91473641, 37.8676147 , 49.40776456,\n",
       "       36.86461867, 35.1468389 , 54.08242308, 48.01448651, 41.29815003,\n",
       "       47.82518274, 58.50625301, 72.61679862, 38.7277474 , 51.47055651,\n",
       "       37.43793491, 40.40052047, 35.53027317, 56.5258779 , 13.58871241,\n",
       "       57.36569467, 43.96160014, 53.4756042 , 34.91006679, 51.18828693,\n",
       "       45.25468048, 37.02221441, 56.01786009, 33.57800313, 34.32969802,\n",
       "       47.35780873, 49.20682048, 33.64596429, 43.99785257, 36.66743071,\n",
       "       54.63126821, 36.89762914, 52.21874437, 31.83767293, 42.39119293,\n",
       "       30.70661806, 26.8611794 , 43.91369956, 42.36849273, 47.08284203,\n",
       "       84.15107579, 56.52328738, 43.20375085, 37.63621484, 59.77409495,\n",
       "       50.6803445 , 53.69840815, 42.44419676, 79.02587629, 52.34419579,\n",
       "       57.364976  , 77.14115183, 50.00407128, 23.21366366, 39.37360646,\n",
       "        7.40888006,  3.63221712, 24.53276814, 51.82644688, 36.54056086,\n",
       "       27.6591035 , 43.85205039, 47.66417059, 41.84361219, 61.51730862,\n",
       "       46.97590628, 30.57137641, 40.113064  , 63.12563434, 43.54511448,\n",
       "       59.70064198,  8.99340179, 46.03022282, 23.41005138, 24.20179446,\n",
       "       44.17729598, 23.8302788 , 12.41831946, 28.60241803, 39.16111127,\n",
       "       51.17076791, 37.59479787, 58.67580328, 66.41100318, 36.56539368,\n",
       "       50.26457183, 43.41619108, 60.67961309, 53.62562547, 45.85509223,\n",
       "       52.89200992, 52.34239041, 52.23773262, 87.23986761, 47.01298128,\n",
       "       35.88894151, 38.6999207 , 60.85523328, 51.01790255, 53.86696051,\n",
       "       38.06379212, 39.11478948, 48.08459603, 46.53582776, 48.51078744,\n",
       "       44.48263049, 50.59498438, 28.05363701, 24.19833283, 44.72074939,\n",
       "       28.41433243, 46.67518859, 56.03011288, 50.00966704, 41.00287033,\n",
       "       51.64180091, 47.7443991 , 41.43789287, 39.23916838, 49.03685393,\n",
       "       41.23052118, 60.26569038, 56.56464888, 44.60570469, 41.7434642 ,\n",
       "       52.82368544, 51.66381867, 46.81886293, 64.10725249, 66.94480148,\n",
       "       38.13200547, 38.30090861, 39.46877613, 47.08952579, 28.78950965,\n",
       "       56.94236697, 42.56967318,  8.04913829, 35.46816229, 66.01642085,\n",
       "       43.07586271, 34.52330073, 43.65717654, 43.08308773, 38.22363843,\n",
       "       70.07222196, 44.03828562, 55.41301074, 22.9879399 , 56.48518259,\n",
       "       53.80486008, 45.74912708, 45.79776235, 46.83520791, 54.50063836,\n",
       "       49.72381381, 53.61251388, 43.37060102, 59.48726019, 44.6867336 ,\n",
       "       36.21932561, 39.84292613, 47.14536019, 36.48115533, 36.55693246,\n",
       "       51.94959133, 66.74200222, 64.54153739, 60.06863176, 58.05120997,\n",
       "       -0.38609092, 42.93783917, 45.76181861, 49.86146631, 46.2556545 ,\n",
       "       53.99525249, 44.42333748, 34.78673205, 44.78415031, 38.90848486,\n",
       "       59.2388035 , 59.55152638, 55.93878017, 54.79399466, 31.80740853,\n",
       "       36.22007115])"
      ]
     },
     "metadata": {},
     "execution_count": 74
    }
   ],
   "source": [
    "y_pred"
   ]
  },
  {
   "cell_type": "code",
   "execution_count": 73,
   "metadata": {},
   "outputs": [
    {
     "output_type": "error",
     "ename": "ValueError",
     "evalue": "x and y must be the same size",
     "traceback": [
      "\u001b[1;31m---------------------------------------------------------------------------\u001b[0m",
      "\u001b[1;31mValueError\u001b[0m                                Traceback (most recent call last)",
      "\u001b[1;32m<ipython-input-73-bc91eef94791>\u001b[0m in \u001b[0;36m<module>\u001b[1;34m\u001b[0m\n\u001b[0;32m      1\u001b[0m \u001b[1;32mimport\u001b[0m \u001b[0mmatplotlib\u001b[0m\u001b[1;33m.\u001b[0m\u001b[0mpyplot\u001b[0m \u001b[1;32mas\u001b[0m \u001b[0mplt\u001b[0m\u001b[1;33m\u001b[0m\u001b[1;33m\u001b[0m\u001b[0m\n\u001b[1;32m----> 2\u001b[1;33m \u001b[0mplt\u001b[0m\u001b[1;33m.\u001b[0m\u001b[0mscatter\u001b[0m\u001b[1;33m(\u001b[0m\u001b[0mX_test\u001b[0m\u001b[1;33m,\u001b[0m \u001b[0my_test\u001b[0m\u001b[1;33m,\u001b[0m \u001b[0mcolor\u001b[0m \u001b[1;33m=\u001b[0m\u001b[1;34m'b'\u001b[0m\u001b[1;33m)\u001b[0m\u001b[1;33m\u001b[0m\u001b[1;33m\u001b[0m\u001b[0m\n\u001b[0m\u001b[0;32m      3\u001b[0m \u001b[0mplt\u001b[0m\u001b[1;33m.\u001b[0m\u001b[0mplot\u001b[0m\u001b[1;33m(\u001b[0m\u001b[0mX_test\u001b[0m\u001b[1;33m,\u001b[0m \u001b[0my_pred\u001b[0m\u001b[1;33m,\u001b[0m \u001b[0mcolor\u001b[0m \u001b[1;33m=\u001b[0m\u001b[1;34m'k'\u001b[0m\u001b[1;33m)\u001b[0m\u001b[1;33m\u001b[0m\u001b[1;33m\u001b[0m\u001b[0m\n",
      "\u001b[1;32m~\\AppData\\Roaming\\Python\\Python39\\site-packages\\matplotlib\\pyplot.py\u001b[0m in \u001b[0;36mscatter\u001b[1;34m(x, y, s, c, marker, cmap, norm, vmin, vmax, alpha, linewidths, verts, edgecolors, plotnonfinite, data, **kwargs)\u001b[0m\n\u001b[0;32m   2888\u001b[0m         \u001b[0mverts\u001b[0m\u001b[1;33m=\u001b[0m\u001b[0mcbook\u001b[0m\u001b[1;33m.\u001b[0m\u001b[0mdeprecation\u001b[0m\u001b[1;33m.\u001b[0m\u001b[0m_deprecated_parameter\u001b[0m\u001b[1;33m,\u001b[0m\u001b[1;33m\u001b[0m\u001b[1;33m\u001b[0m\u001b[0m\n\u001b[0;32m   2889\u001b[0m         edgecolors=None, *, plotnonfinite=False, data=None, **kwargs):\n\u001b[1;32m-> 2890\u001b[1;33m     __ret = gca().scatter(\n\u001b[0m\u001b[0;32m   2891\u001b[0m         \u001b[0mx\u001b[0m\u001b[1;33m,\u001b[0m \u001b[0my\u001b[0m\u001b[1;33m,\u001b[0m \u001b[0ms\u001b[0m\u001b[1;33m=\u001b[0m\u001b[0ms\u001b[0m\u001b[1;33m,\u001b[0m \u001b[0mc\u001b[0m\u001b[1;33m=\u001b[0m\u001b[0mc\u001b[0m\u001b[1;33m,\u001b[0m \u001b[0mmarker\u001b[0m\u001b[1;33m=\u001b[0m\u001b[0mmarker\u001b[0m\u001b[1;33m,\u001b[0m \u001b[0mcmap\u001b[0m\u001b[1;33m=\u001b[0m\u001b[0mcmap\u001b[0m\u001b[1;33m,\u001b[0m \u001b[0mnorm\u001b[0m\u001b[1;33m=\u001b[0m\u001b[0mnorm\u001b[0m\u001b[1;33m,\u001b[0m\u001b[1;33m\u001b[0m\u001b[1;33m\u001b[0m\u001b[0m\n\u001b[0;32m   2892\u001b[0m         \u001b[0mvmin\u001b[0m\u001b[1;33m=\u001b[0m\u001b[0mvmin\u001b[0m\u001b[1;33m,\u001b[0m \u001b[0mvmax\u001b[0m\u001b[1;33m=\u001b[0m\u001b[0mvmax\u001b[0m\u001b[1;33m,\u001b[0m \u001b[0malpha\u001b[0m\u001b[1;33m=\u001b[0m\u001b[0malpha\u001b[0m\u001b[1;33m,\u001b[0m \u001b[0mlinewidths\u001b[0m\u001b[1;33m=\u001b[0m\u001b[0mlinewidths\u001b[0m\u001b[1;33m,\u001b[0m\u001b[1;33m\u001b[0m\u001b[1;33m\u001b[0m\u001b[0m\n",
      "\u001b[1;32m~\\AppData\\Roaming\\Python\\Python39\\site-packages\\matplotlib\\__init__.py\u001b[0m in \u001b[0;36minner\u001b[1;34m(ax, data, *args, **kwargs)\u001b[0m\n\u001b[0;32m   1445\u001b[0m     \u001b[1;32mdef\u001b[0m \u001b[0minner\u001b[0m\u001b[1;33m(\u001b[0m\u001b[0max\u001b[0m\u001b[1;33m,\u001b[0m \u001b[1;33m*\u001b[0m\u001b[0margs\u001b[0m\u001b[1;33m,\u001b[0m \u001b[0mdata\u001b[0m\u001b[1;33m=\u001b[0m\u001b[1;32mNone\u001b[0m\u001b[1;33m,\u001b[0m \u001b[1;33m**\u001b[0m\u001b[0mkwargs\u001b[0m\u001b[1;33m)\u001b[0m\u001b[1;33m:\u001b[0m\u001b[1;33m\u001b[0m\u001b[1;33m\u001b[0m\u001b[0m\n\u001b[0;32m   1446\u001b[0m         \u001b[1;32mif\u001b[0m \u001b[0mdata\u001b[0m \u001b[1;32mis\u001b[0m \u001b[1;32mNone\u001b[0m\u001b[1;33m:\u001b[0m\u001b[1;33m\u001b[0m\u001b[1;33m\u001b[0m\u001b[0m\n\u001b[1;32m-> 1447\u001b[1;33m             \u001b[1;32mreturn\u001b[0m \u001b[0mfunc\u001b[0m\u001b[1;33m(\u001b[0m\u001b[0max\u001b[0m\u001b[1;33m,\u001b[0m \u001b[1;33m*\u001b[0m\u001b[0mmap\u001b[0m\u001b[1;33m(\u001b[0m\u001b[0msanitize_sequence\u001b[0m\u001b[1;33m,\u001b[0m \u001b[0margs\u001b[0m\u001b[1;33m)\u001b[0m\u001b[1;33m,\u001b[0m \u001b[1;33m**\u001b[0m\u001b[0mkwargs\u001b[0m\u001b[1;33m)\u001b[0m\u001b[1;33m\u001b[0m\u001b[1;33m\u001b[0m\u001b[0m\n\u001b[0m\u001b[0;32m   1448\u001b[0m \u001b[1;33m\u001b[0m\u001b[0m\n\u001b[0;32m   1449\u001b[0m         \u001b[0mbound\u001b[0m \u001b[1;33m=\u001b[0m \u001b[0mnew_sig\u001b[0m\u001b[1;33m.\u001b[0m\u001b[0mbind\u001b[0m\u001b[1;33m(\u001b[0m\u001b[0max\u001b[0m\u001b[1;33m,\u001b[0m \u001b[1;33m*\u001b[0m\u001b[0margs\u001b[0m\u001b[1;33m,\u001b[0m \u001b[1;33m**\u001b[0m\u001b[0mkwargs\u001b[0m\u001b[1;33m)\u001b[0m\u001b[1;33m\u001b[0m\u001b[1;33m\u001b[0m\u001b[0m\n",
      "\u001b[1;32m~\\AppData\\Roaming\\Python\\Python39\\site-packages\\matplotlib\\cbook\\deprecation.py\u001b[0m in \u001b[0;36mwrapper\u001b[1;34m(*inner_args, **inner_kwargs)\u001b[0m\n\u001b[0;32m    409\u001b[0m                          \u001b[1;32melse\u001b[0m \u001b[0mdeprecation_addendum\u001b[0m\u001b[1;33m,\u001b[0m\u001b[1;33m\u001b[0m\u001b[1;33m\u001b[0m\u001b[0m\n\u001b[0;32m    410\u001b[0m                 **kwargs)\n\u001b[1;32m--> 411\u001b[1;33m         \u001b[1;32mreturn\u001b[0m \u001b[0mfunc\u001b[0m\u001b[1;33m(\u001b[0m\u001b[1;33m*\u001b[0m\u001b[0minner_args\u001b[0m\u001b[1;33m,\u001b[0m \u001b[1;33m**\u001b[0m\u001b[0minner_kwargs\u001b[0m\u001b[1;33m)\u001b[0m\u001b[1;33m\u001b[0m\u001b[1;33m\u001b[0m\u001b[0m\n\u001b[0m\u001b[0;32m    412\u001b[0m \u001b[1;33m\u001b[0m\u001b[0m\n\u001b[0;32m    413\u001b[0m     \u001b[1;32mreturn\u001b[0m \u001b[0mwrapper\u001b[0m\u001b[1;33m\u001b[0m\u001b[1;33m\u001b[0m\u001b[0m\n",
      "\u001b[1;32m~\\AppData\\Roaming\\Python\\Python39\\site-packages\\matplotlib\\axes\\_axes.py\u001b[0m in \u001b[0;36mscatter\u001b[1;34m(self, x, y, s, c, marker, cmap, norm, vmin, vmax, alpha, linewidths, verts, edgecolors, plotnonfinite, **kwargs)\u001b[0m\n\u001b[0;32m   4439\u001b[0m         \u001b[0my\u001b[0m \u001b[1;33m=\u001b[0m \u001b[0mnp\u001b[0m\u001b[1;33m.\u001b[0m\u001b[0mma\u001b[0m\u001b[1;33m.\u001b[0m\u001b[0mravel\u001b[0m\u001b[1;33m(\u001b[0m\u001b[0my\u001b[0m\u001b[1;33m)\u001b[0m\u001b[1;33m\u001b[0m\u001b[1;33m\u001b[0m\u001b[0m\n\u001b[0;32m   4440\u001b[0m         \u001b[1;32mif\u001b[0m \u001b[0mx\u001b[0m\u001b[1;33m.\u001b[0m\u001b[0msize\u001b[0m \u001b[1;33m!=\u001b[0m \u001b[0my\u001b[0m\u001b[1;33m.\u001b[0m\u001b[0msize\u001b[0m\u001b[1;33m:\u001b[0m\u001b[1;33m\u001b[0m\u001b[1;33m\u001b[0m\u001b[0m\n\u001b[1;32m-> 4441\u001b[1;33m             \u001b[1;32mraise\u001b[0m \u001b[0mValueError\u001b[0m\u001b[1;33m(\u001b[0m\u001b[1;34m\"x and y must be the same size\"\u001b[0m\u001b[1;33m)\u001b[0m\u001b[1;33m\u001b[0m\u001b[1;33m\u001b[0m\u001b[0m\n\u001b[0m\u001b[0;32m   4442\u001b[0m \u001b[1;33m\u001b[0m\u001b[0m\n\u001b[0;32m   4443\u001b[0m         \u001b[1;32mif\u001b[0m \u001b[0ms\u001b[0m \u001b[1;32mis\u001b[0m \u001b[1;32mNone\u001b[0m\u001b[1;33m:\u001b[0m\u001b[1;33m\u001b[0m\u001b[1;33m\u001b[0m\u001b[0m\n",
      "\u001b[1;31mValueError\u001b[0m: x and y must be the same size"
     ]
    }
   ],
   "source": [
    "import matplotlib.pyplot as plt\n",
    "plt.scatter(X_test, y_test, color ='b')\n",
    "plt.plot(X_test, y_pred, color ='k')"
   ]
  },
  {
   "cell_type": "code",
   "execution_count": 70,
   "metadata": {},
   "outputs": [
    {
     "output_type": "execute_result",
     "data": {
      "text/plain": [
       "array([ 0.22236861,  1.26465422, -0.44986305, -0.95978439, -0.40240204,\n",
       "        0.82417619,  1.73472154])"
      ]
     },
     "metadata": {},
     "execution_count": 70
    }
   ],
   "source": [
    "X_test[0]"
   ]
  },
  {
   "cell_type": "code",
   "execution_count": 72,
   "metadata": {},
   "outputs": [
    {
     "output_type": "stream",
     "name": "stdout",
     "text": [
      "Prediction score: [5.07187139]\n"
     ]
    }
   ],
   "source": [
    "import numpy as np\n",
    "new_prediction = lin.predict(sc.transform(np.array([[321548,12,5,1,342, 110.0, 1]])))\n",
    "print(\"Prediction score:\" , new_prediction)"
   ]
  },
  {
   "cell_type": "code",
   "execution_count": 77,
   "metadata": {},
   "outputs": [
    {
     "output_type": "execute_result",
     "data": {
      "text/plain": [
       "<class 'statsmodels.iolib.summary.Summary'>\n",
       "\"\"\"\n",
       "                            OLS Regression Results                            \n",
       "==============================================================================\n",
       "Dep. Variable:                      y   R-squared:                       0.966\n",
       "Model:                            OLS   Adj. R-squared:                  0.965\n",
       "Method:                 Least Squares   F-statistic:                     6624.\n",
       "Date:                Mon, 19 Apr 2021   Prob (F-statistic):               0.00\n",
       "Time:                        18:18:00   Log-Likelihood:                -3798.7\n",
       "No. Observations:                1664   AIC:                             7613.\n",
       "Df Residuals:                    1656   BIC:                             7657.\n",
       "Df Model:                           7                                         \n",
       "Covariance Type:            nonrobust                                         \n",
       "==============================================================================\n",
       "                 coef    std err          t      P>|t|      [0.025      0.975]\n",
       "------------------------------------------------------------------------------\n",
       "const         -2.6692      0.616     -4.336      0.000      -3.876      -1.462\n",
       "x1         -9.735e-07   1.99e-07     -4.886      0.000   -1.36e-06   -5.83e-07\n",
       "x2             0.0194      0.015      1.331      0.183      -0.009       0.048\n",
       "x3             0.0171      0.014      1.254      0.210      -0.010       0.044\n",
       "x4             0.4243      0.114      3.730      0.000       0.201       0.647\n",
       "x5         -6.279e-05      0.000     -0.474      0.636      -0.000       0.000\n",
       "x6             0.0580      0.005     11.960      0.000       0.049       0.068\n",
       "x7             0.9815      0.005    195.126      0.000       0.972       0.991\n",
       "==============================================================================\n",
       "Omnibus:                      428.217   Durbin-Watson:                   2.000\n",
       "Prob(Omnibus):                  0.000   Jarque-Bera (JB):              985.854\n",
       "Skew:                           1.421   Prob(JB):                    8.40e-215\n",
       "Kurtosis:                       5.479   Cond. No.                     8.73e+06\n",
       "==============================================================================\n",
       "\n",
       "Notes:\n",
       "[1] Standard Errors assume that the covariance matrix of the errors is correctly specified.\n",
       "[2] The condition number is large, 8.73e+06. This might indicate that there are\n",
       "strong multicollinearity or other numerical problems.\n",
       "\"\"\""
      ],
      "text/html": "<table class=\"simpletable\">\n<caption>OLS Regression Results</caption>\n<tr>\n  <th>Dep. Variable:</th>            <td>y</td>        <th>  R-squared:         </th> <td>   0.966</td>\n</tr>\n<tr>\n  <th>Model:</th>                   <td>OLS</td>       <th>  Adj. R-squared:    </th> <td>   0.965</td>\n</tr>\n<tr>\n  <th>Method:</th>             <td>Least Squares</td>  <th>  F-statistic:       </th> <td>   6624.</td>\n</tr>\n<tr>\n  <th>Date:</th>             <td>Mon, 19 Apr 2021</td> <th>  Prob (F-statistic):</th>  <td>  0.00</td> \n</tr>\n<tr>\n  <th>Time:</th>                 <td>18:18:00</td>     <th>  Log-Likelihood:    </th> <td> -3798.7</td>\n</tr>\n<tr>\n  <th>No. Observations:</th>      <td>  1664</td>      <th>  AIC:               </th> <td>   7613.</td>\n</tr>\n<tr>\n  <th>Df Residuals:</th>          <td>  1656</td>      <th>  BIC:               </th> <td>   7657.</td>\n</tr>\n<tr>\n  <th>Df Model:</th>              <td>     7</td>      <th>                     </th>     <td> </td>   \n</tr>\n<tr>\n  <th>Covariance Type:</th>      <td>nonrobust</td>    <th>                     </th>     <td> </td>   \n</tr>\n</table>\n<table class=\"simpletable\">\n<tr>\n    <td></td>       <th>coef</th>     <th>std err</th>      <th>t</th>      <th>P>|t|</th>  <th>[0.025</th>    <th>0.975]</th>  \n</tr>\n<tr>\n  <th>const</th> <td>   -2.6692</td> <td>    0.616</td> <td>   -4.336</td> <td> 0.000</td> <td>   -3.876</td> <td>   -1.462</td>\n</tr>\n<tr>\n  <th>x1</th>    <td>-9.735e-07</td> <td> 1.99e-07</td> <td>   -4.886</td> <td> 0.000</td> <td>-1.36e-06</td> <td>-5.83e-07</td>\n</tr>\n<tr>\n  <th>x2</th>    <td>    0.0194</td> <td>    0.015</td> <td>    1.331</td> <td> 0.183</td> <td>   -0.009</td> <td>    0.048</td>\n</tr>\n<tr>\n  <th>x3</th>    <td>    0.0171</td> <td>    0.014</td> <td>    1.254</td> <td> 0.210</td> <td>   -0.010</td> <td>    0.044</td>\n</tr>\n<tr>\n  <th>x4</th>    <td>    0.4243</td> <td>    0.114</td> <td>    3.730</td> <td> 0.000</td> <td>    0.201</td> <td>    0.647</td>\n</tr>\n<tr>\n  <th>x5</th>    <td>-6.279e-05</td> <td>    0.000</td> <td>   -0.474</td> <td> 0.636</td> <td>   -0.000</td> <td>    0.000</td>\n</tr>\n<tr>\n  <th>x6</th>    <td>    0.0580</td> <td>    0.005</td> <td>   11.960</td> <td> 0.000</td> <td>    0.049</td> <td>    0.068</td>\n</tr>\n<tr>\n  <th>x7</th>    <td>    0.9815</td> <td>    0.005</td> <td>  195.126</td> <td> 0.000</td> <td>    0.972</td> <td>    0.991</td>\n</tr>\n</table>\n<table class=\"simpletable\">\n<tr>\n  <th>Omnibus:</th>       <td>428.217</td> <th>  Durbin-Watson:     </th> <td>   2.000</td> \n</tr>\n<tr>\n  <th>Prob(Omnibus):</th> <td> 0.000</td>  <th>  Jarque-Bera (JB):  </th> <td> 985.854</td> \n</tr>\n<tr>\n  <th>Skew:</th>          <td> 1.421</td>  <th>  Prob(JB):          </th> <td>8.40e-215</td>\n</tr>\n<tr>\n  <th>Kurtosis:</th>      <td> 5.479</td>  <th>  Cond. No.          </th> <td>8.73e+06</td> \n</tr>\n</table><br/><br/>Notes:<br/>[1] Standard Errors assume that the covariance matrix of the errors is correctly specified.<br/>[2] The condition number is large, 8.73e+06. This might indicate that there are<br/>strong multicollinearity or other numerical problems."
     },
     "metadata": {},
     "execution_count": 77
    }
   ],
   "source": [
    "import statsmodels.api as ssm\n",
    "\n",
    "X=ssm.add_constant(X)\n",
    "model= ssm.OLS(y,X).fit() \n",
    "predictions= model.summary()\n",
    "predictions"
   ]
  },
  {
   "cell_type": "code",
   "execution_count": null,
   "metadata": {},
   "outputs": [],
   "source": []
  }
 ],
 "metadata": {
  "kernelspec": {
   "name": "python391jvsc74a57bd063fd5069d213b44bf678585dea6b12cceca9941eaf7f819626cde1f2670de90d",
   "display_name": "Python 3.9.1 64-bit"
  },
  "language_info": {
   "codemirror_mode": {
    "name": "ipython",
    "version": 3
   },
   "file_extension": ".py",
   "mimetype": "text/x-python",
   "name": "python",
   "nbconvert_exporter": "python",
   "pygments_lexer": "ipython3",
   "version": "3.9.1"
  },
  "metadata": {
   "interpreter": {
    "hash": "63fd5069d213b44bf678585dea6b12cceca9941eaf7f819626cde1f2670de90d"
   }
  }
 },
 "nbformat": 4,
 "nbformat_minor": 2
}